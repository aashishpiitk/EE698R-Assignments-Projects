{
  "cells": [
    {
      "cell_type": "markdown",
      "id": "described-israel",
      "metadata": {
        "id": "described-israel"
      },
      "source": [
        "## Instructions:\n",
        "- You can use NN libraries such as tensorflow, pytorch, etc. But implement NF and importance sampling on your own.\n",
        "- Zero tolerance for plagiarism. Do not copy from Practice and Share; the student who submitted there originally only can use; Github tracks who pushed what code.\n",
        "- Total marks: 50 + 5 (bonus)\n",
        "- Marks will be for plots and explanations. Describe your experiments, observations, challenges-faced, hyper-parameter tuning, etc., in the explanations."
      ]
    },
    {
      "cell_type": "code",
      "source": [
        "cp /content/drive/MyDrive/6th_sem/Ee698r/CodingQuiz1lib.py /content/CodingQuiz1lib.py"
      ],
      "metadata": {
        "id": "SpbwKhrYvhzh"
      },
      "id": "SpbwKhrYvhzh",
      "execution_count": null,
      "outputs": []
    },
    {
      "cell_type": "code",
      "execution_count": null,
      "id": "spoken-raleigh",
      "metadata": {
        "id": "spoken-raleigh"
      },
      "outputs": [],
      "source": [
        "import CodingQuiz1lib as given\n",
        "import numpy as np\n",
        "np.random.seed(5)\n",
        "import matplotlib.pyplot as plt"
      ]
    },
    {
      "cell_type": "markdown",
      "id": "future-multimedia",
      "metadata": {
        "id": "future-multimedia"
      },
      "source": [
        "# Q1: Model a 2D GMM using NF\n",
        "- Prepare the target probability distribution $p_x^*$ as a GMM with 5 components\n",
        "```\n",
        "    ptarget = given.GMM()  \n",
        "    samples = ptarget.sample(5) # to obtain 5 samples\n",
        "    given.plot_samples_2d(samples, filename='target')   # plot the samples in file\n",
        "    ptarget.prob(samples)       # to obtain probability values of samples\n",
        "```\n",
        "- Prepare the source distribution $p_u$ as a Gaussian with zero mean and unit variance. Use `given.Gaussian`.\n",
        "\n",
        "## a.\n",
        "- Given only the samples from the target distribution, train an NF $x=T(u)$ to model that distribution. Use any flow of your choice.\n",
        "- Evaluation:\n",
        "    - Generate samples from the model and plot them using `given.plot_samples_2d()`. Also plot samples from target distribution for comparison. Write your obervations in the markdown block below the plots. [10 marks]\n",
        "    - Generate samples from the given target distribution and estimate their probabilities using the model as well as `ptarget.prob()`. Plot a histogram of the absolute difference in the two probability values. Write your obervations in the markdown block below the plots. [10 marks]\n",
        "\n",
        "## b.\n",
        "- Given only the function `ptarget.prob()` from the target distribution, train an NF to model that distribution.\n",
        "- Evaluation:\n",
        "    - Generate samples from the model and plot them using `given.plot_samples_2d()`. Also plot samples from target distribution for comparison. Write your obervations in the markdown block below the plots. [10 marks]\n",
        "    - Generate samples from the given target distribution and estimate their probabilities using the model as well as `ptarget.prob()`. Plot a histogram of the absolute difference in the two probability values. Write your obervations in the markdown block below the plots. [10 marks]\n",
        "\n",
        "## c. (BONUS)\n",
        "- Draw plots that may help understand your models better. Write your obervations in the markdown block below the plots. [5 marks]"
      ]
    },
    {
      "cell_type": "markdown",
      "id": "hawaiian-friday",
      "metadata": {
        "id": "hawaiian-friday"
      },
      "source": [
        "## YOUR CODE:"
      ]
    },
    {
      "cell_type": "code",
      "source": [
        "import numpy as np\n",
        "from tensorflow import keras\n",
        "from tensorflow.keras import layers\n",
        "from tensorflow.keras import optimizers\n",
        "\n",
        "import tensorflow as tf\n",
        "import tensorflow_probability as tfp\n",
        "import matplotlib.pyplot as plt\n",
        "import seaborn as sns\n",
        "tfd = tfp.distributions"
      ],
      "metadata": {
        "id": "cvX2tD201Bvc"
      },
      "execution_count": null,
      "outputs": [],
      "id": "cvX2tD201Bvc"
    },
    {
      "cell_type": "code",
      "source": [
        "def plot_samples_2d(data, filename=None):\n",
        "    'data is SxD'\n",
        "    plt.figure(figsize=(5,5))\n",
        "    plt.scatter(data[:, 0], data[:, 1]) \n",
        "    if filename:\n",
        "        plt.savefig('./%s'%(filename) + \".png\", format=\"png\")"
      ],
      "metadata": {
        "id": "EzC5poTTNZgJ"
      },
      "execution_count": null,
      "outputs": [],
      "id": "EzC5poTTNZgJ"
    },
    {
      "cell_type": "code",
      "source": [
        "np.random.seed(5)"
      ],
      "metadata": {
        "id": "437xIRhdKurd"
      },
      "execution_count": null,
      "outputs": [],
      "id": "437xIRhdKurd"
    },
    {
      "cell_type": "markdown",
      "source": [
        "# **Step 1**"
      ],
      "metadata": {
        "id": "5sbIqNTG2a3q"
      },
      "id": "5sbIqNTG2a3q"
    },
    {
      "cell_type": "code",
      "source": [
        "univariate_normal = tfd.Normal(loc = 0, scale = 1)\n",
        "bivariate_normal = tfd.MultivariateNormalDiag(loc = [0,0], scale_diag = [1,1])"
      ],
      "metadata": {
        "id": "qwwVyFts2cq9"
      },
      "execution_count": null,
      "outputs": [],
      "id": "qwwVyFts2cq9"
    },
    {
      "cell_type": "code",
      "source": [
        "print(univariate_normal, \"\\n\", bivariate_normal)"
      ],
      "metadata": {
        "colab": {
          "base_uri": "https://localhost:8080/"
        },
        "id": "ydpQoNt04aN7",
        "outputId": "8eed9021-b718-432a-d871-961863769a4a"
      },
      "execution_count": null,
      "outputs": [
        {
          "output_type": "stream",
          "name": "stdout",
          "text": [
            "tfp.distributions.Normal(\"Normal\", batch_shape=[], event_shape=[], dtype=float32) \n",
            " tfp.distributions.MultivariateNormalDiag(\"MultivariateNormalDiag\", batch_shape=[], event_shape=[2], dtype=float32)\n"
          ]
        }
      ],
      "id": "ydpQoNt04aN7"
    },
    {
      "cell_type": "code",
      "source": [
        "plt.hist(univariate_normal.sample(1000), bins = 50, density = True)\n",
        "plt.show()"
      ],
      "metadata": {
        "colab": {
          "base_uri": "https://localhost:8080/",
          "height": 265
        },
        "id": "tLCg0weBHYZy",
        "outputId": "58e492c5-c171-4a6b-d1fa-370fca1b77d4"
      },
      "execution_count": null,
      "outputs": [
        {
          "output_type": "display_data",
          "data": {
            "image/png": "[encoded data removed]",
            "text/plain": [
              "<Figure size 432x288 with 1 Axes>"
            ]
          },
          "metadata": {
            "needs_background": "light"
          }
        }
      ],
      "id": "tLCg0weBHYZy"
    },
    {
      "cell_type": "code",
      "source": [
        "bi_nor_samples = bivariate_normal.sample(10000)"
      ],
      "metadata": {
        "id": "scC--nyYIUc6"
      },
      "execution_count": null,
      "outputs": [],
      "id": "scC--nyYIUc6"
    },
    {
      "cell_type": "code",
      "source": [
        "g = sns.jointplot(\n",
        "    x = bi_nor_samples[:,0], \n",
        "    y = bi_nor_samples[:,1], \n",
        "    space=0,\n",
        "    height=5,\n",
        ")"
      ],
      "metadata": {
        "colab": {
          "base_uri": "https://localhost:8080/",
          "height": 369
        },
        "id": "EZjvQD-fIMDm",
        "outputId": "615992ef-51ef-49f1-d099-2622eb42b879"
      },
      "execution_count": null,
      "outputs": [
        {
          "output_type": "display_data",
          "data": {
            "image/png": "[encoded data removed]",
            "text/plain": [
              "<Figure size 360x360 with 3 Axes>"
            ]
          },
          "metadata": {
            "needs_background": "light"
          }
        }
      ],
      "id": "EZjvQD-fIMDm"
    },
    {
      "cell_type": "code",
      "source": [
        ""
      ],
      "metadata": {
        "id": "SPl4mxzbYUZ8"
      },
      "id": "SPl4mxzbYUZ8",
      "execution_count": null,
      "outputs": []
    },
    {
      "cell_type": "markdown",
      "source": [
        "# **Step 2**"
      ],
      "metadata": {
        "id": "bSKswDVh2OsF"
      },
      "id": "bSKswDVh2OsF"
    },
    {
      "cell_type": "code",
      "source": [
        "def random_GMM_with_5_components(pi, mus, sigmas):\n",
        "  '''\n",
        "  pi : probabilities of hidden variables\n",
        "  mus : means of clusters\n",
        "  sigma : std of clusters\n",
        "  '''\n",
        "  \n",
        "  gmm_with_5_comp = tfd.Mixture(\n",
        "    cat = tfd.Categorical(probs = pi),\n",
        "    components = [tfd.MultivariateNormalDiag(loc = mus[i], scale_diag = sigmas[i]) for i in range(mus.shape[0])] )\n",
        "  \n",
        "  return gmm_with_5_comp"
      ],
      "metadata": {
        "id": "hoTodfkejDau"
      },
      "execution_count": null,
      "outputs": [],
      "id": "hoTodfkejDau"
    },
    {
      "cell_type": "code",
      "source": [
        "bivariate_gmmSampler = random_GMM_with_5_components(pi = tf.Variable([0.2,0.6,0.2]) ,mus = tf.Variable([bivariate_normal.sample().numpy(),\n",
        "                                                                                      bivariate_normal.sample().numpy(),\n",
        "                                                                                      bivariate_normal.sample().numpy()]),\n",
        "                                  \n",
        "                                  sigmas = tf.Variable([np.absolute(bivariate_normal.sample().numpy()),\n",
        "                                                        np.absolute(bivariate_normal.sample().numpy()),\n",
        "                                                        np.absolute(bivariate_normal.sample().numpy())]))"
      ],
      "metadata": {
        "id": "x1tkkQuMLkbV"
      },
      "execution_count": null,
      "outputs": [],
      "id": "x1tkkQuMLkbV"
    },
    {
      "cell_type": "code",
      "source": [
        "gmm_samples = bivariate_gmmSampler.sample(1000)"
      ],
      "metadata": {
        "id": "jJ6J7rdLVzgV"
      },
      "execution_count": null,
      "outputs": [],
      "id": "jJ6J7rdLVzgV"
    },
    {
      "cell_type": "code",
      "source": [
        "plot_samples_2d(gmm_samples)"
      ],
      "metadata": {
        "colab": {
          "base_uri": "https://localhost:8080/",
          "height": 323
        },
        "id": "wG5l3CwNb1mo",
        "outputId": "f449ed49-f040-4f5c-fc65-1eb7dcf62038"
      },
      "execution_count": null,
      "outputs": [
        {
          "output_type": "display_data",
          "data": {
            "image/png": "[encoded data removed]",
            "text/plain": [
              "<Figure size 360x360 with 1 Axes>"
            ]
          },
          "metadata": {
            "needs_background": "light"
          }
        }
      ],
      "id": "wG5l3CwNb1mo"
    },
    {
      "cell_type": "markdown",
      "source": [
        "# **Define target_dist and base_dist**"
      ],
      "metadata": {
        "id": "05CA9C7Ja3hQ"
      },
      "id": "05CA9C7Ja3hQ"
    },
    {
      "cell_type": "code",
      "source": [
        "target_dist = bivariate_gmmSampler\n",
        "base_dist = bivariate_normal"
      ],
      "metadata": {
        "id": "BoLxmuBQVyDH"
      },
      "id": "BoLxmuBQVyDH",
      "execution_count": null,
      "outputs": []
    },
    {
      "cell_type": "markdown",
      "source": [
        "# **Question 1. (a) : Simple Normalizing Flow**"
      ],
      "metadata": {
        "id": "MjTVd8InIzYn"
      },
      "id": "MjTVd8InIzYn"
    },
    {
      "cell_type": "code",
      "source": [
        "class log_sigma_NN(layers.Layer):\n",
        "  def __init__(self, input_shape, n_hidden=[64,64], activation=\"relu\"):\n",
        "        super(log_sigma_NN, self).__init__(name=\"log_sigma_nn\")\n",
        "        layer_list = []\n",
        "        for n in n_hidden:\n",
        "            layer_list.append(layers.Dense(n, activation=activation))\n",
        "        self.layer_list = layer_list\n",
        "        self.log_sigma_layer = layers.Dense(input_shape, activation=\"tanh\", name='log_sigma')\n",
        "\n",
        "  def call(self, x):\n",
        "      y = x\n",
        "      for layer in self.layer_list:\n",
        "          y = layer(y)\n",
        "      log_sigma = self.log_sigma_layer(y)\n",
        "      return log_sigma"
      ],
      "metadata": {
        "id": "NJck2B_TOGgR"
      },
      "execution_count": null,
      "outputs": [],
      "id": "NJck2B_TOGgR"
    },
    {
      "cell_type": "code",
      "source": [
        "class mu_NN(layers.Layer):\n",
        "  def __init__(self, input_shape, n_hidden=[64,64], activation=\"relu\"):\n",
        "        super(mu_NN, self).__init__(name=\"mu_nn\")\n",
        "        layer_list = []\n",
        "        for n in n_hidden:\n",
        "            layer_list.append(layers.Dense(n, activation=activation))\n",
        "        self.layer_list = layer_list\n",
        "        self.mu_layer = layers.Dense(input_shape, name='mu')\n",
        "  def call(self, x):\n",
        "      y = x\n",
        "      for layer in self.layer_list:\n",
        "          y = layer(y)\n",
        "      mu = self.mu_layer(y)\n",
        "      return mu"
      ],
      "metadata": {
        "id": "R-0xWH-AOZXu"
      },
      "execution_count": null,
      "outputs": [],
      "id": "R-0xWH-AOZXu"
    },
    {
      "cell_type": "code",
      "source": [
        "# If u is the sample from Pu(U), then T = sigma*u + mu is the transformation that we apply on 'u' so that T map Pu(U) to Px(X)"
      ],
      "metadata": {
        "id": "mLwfyqfCDjJc"
      },
      "execution_count": null,
      "outputs": [],
      "id": "mLwfyqfCDjJc"
    },
    {
      "cell_type": "code",
      "source": [
        "class RNVP:\n",
        "    def __init__(self, input_shape, flip):\n",
        "        assert input_shape % 2 == 0\n",
        "        \n",
        "        input_shape = input_shape // 2\n",
        "        mu_nn = mu_NN(input_shape)\n",
        "        log_sigma_nn = log_sigma_NN(input_shape)\n",
        "        \n",
        "        x = keras.Input(input_shape)\n",
        "        t = mu_nn(x)\n",
        "        log_s = log_sigma_nn(x)\n",
        "\n",
        "        self.mu_nn = keras.Model(x, [t], name = \"mu_nn\")\n",
        "        self.log_s_nn = keras.Model(x, [log_s], name = \"log_s_nn\")\n",
        "        self.flip = flip\n",
        "        \n",
        "    def _forward(self, u):\n",
        "        u1, u2 = tf.split(u, 2, axis=-1)\n",
        "\n",
        "        if self.flip == True:\n",
        "          u1, u2 = u2, u1\n",
        "\n",
        "        x1 = u1\n",
        "        log_s = self.log_s_nn(u1)\n",
        "        mu = self.mu_nn(u1)\n",
        "\n",
        "        x2 = u2 * tf.exp(log_s) + mu \n",
        "\n",
        "        if self.flip == True:\n",
        "          x1, x2 = x2, x1\n",
        "        \n",
        "        x = tf.concat([x1, x2], axis=-1)\n",
        "\n",
        "        return x, log_s\n",
        "\n",
        "    def _inverse(self, x):\n",
        "        x1, x2 = tf.split(x, 2, axis=-1)\n",
        "\n",
        "        if self.flip == True:\n",
        "          x1, x2 = x2, x1\n",
        "        \n",
        "        u1 = x1\n",
        "        log_s = self.log_s_nn(u1)\n",
        "        mu = self.mu_nn(u1)\n",
        "        \n",
        "        u2 = (x2 - mu)/(tf.exp(log_s) + 0.000001)\n",
        "\n",
        "        if self.flip == True:\n",
        "          u1, u2 = u2, u1\n",
        "        \n",
        "        u = tf.concat([u1, u2], axis=-1)\n",
        "        return u, log_s\n"
      ],
      "metadata": {
        "id": "Z6RYKkFfS45O"
      },
      "execution_count": null,
      "outputs": [],
      "id": "Z6RYKkFfS45O"
    },
    {
      "cell_type": "code",
      "source": [
        "class RNVP_Chain():\n",
        "  def __init__(self, chain_len = 4, flip = False):\n",
        "    self.flip = flip\n",
        "    self.chain_len = chain_len\n",
        "  \n",
        "    self.rnvp_chain = []\n",
        "    for i in range(self.chain_len):\n",
        "      self.rnvp_chain.append(RNVP(2,self.flip))\n",
        "      self.flip = not self.flip\n",
        "\n",
        "  def chain_inverse(self, x):\n",
        "    u = x\n",
        "    log_det_jacob_inv_transf = 0\n",
        "    for i in range(self.chain_len-1,-1,-1):\n",
        "      u, log_s = self.rnvp_chain[i]._inverse(u)\n",
        "      log_det_jacob_inv_transf = log_det_jacob_inv_transf - log_s\n",
        "    return u, log_det_jacob_inv_transf\n",
        "\n",
        "  def chain_forward(self, u):\n",
        "    x = u\n",
        "    log_det_jacob_forward_transf = 0\n",
        "    for i in range(self.chain_len):\n",
        "      x, log_s = self.rnvp_chain[i]._forward(x)\n",
        "      log_det_jacob_forward_transf = log_det_jacob_forward_transf + log_s\n",
        "    return x, log_det_jacob_forward_transf"
      ],
      "metadata": {
        "id": "H7s9Oit4SstF"
      },
      "execution_count": null,
      "outputs": [],
      "id": "H7s9Oit4SstF"
    },
    {
      "cell_type": "code",
      "source": [
        "RNVP_obj = RNVP_Chain(4)\n",
        "# rnvp_chain = RNVP"
      ],
      "metadata": {
        "id": "tsu-tL-I5Lzk"
      },
      "execution_count": null,
      "outputs": [],
      "id": "tsu-tL-I5Lzk"
    },
    {
      "cell_type": "code",
      "source": [
        "# print(RNVP_obj.chain_len)"
      ],
      "metadata": {
        "id": "9GEettiKXa6c"
      },
      "execution_count": null,
      "outputs": [],
      "id": "9GEettiKXa6c"
    },
    {
      "cell_type": "code",
      "source": [
        "rnvp_chain = RNVP_obj.rnvp_chain"
      ],
      "metadata": {
        "id": "5AHEXZHqXh2s"
      },
      "execution_count": null,
      "outputs": [],
      "id": "5AHEXZHqXh2s"
    },
    {
      "cell_type": "code",
      "source": [
        "def rnvp_loss(base_dist, log_det_jacob_inv_transf, u):\n",
        "  return -tf.reduce_mean(base_dist.log_prob(u) + log_det_jacob_inv_transf)"
      ],
      "metadata": {
        "id": "jWfVwNVbuaP3"
      },
      "execution_count": null,
      "outputs": [],
      "id": "jWfVwNVbuaP3"
    },
    {
      "cell_type": "code",
      "source": [
        "def check_nan(x):\n",
        "  mat = tf.math.is_nan(x)\n",
        "  return tf.math.count_nonzero(mat)"
      ],
      "metadata": {
        "id": "EyLa86pegqv2"
      },
      "execution_count": null,
      "outputs": [],
      "id": "EyLa86pegqv2"
    },
    {
      "cell_type": "code",
      "source": [
        "def one_step(iteration, RNVP_obj, base_dist, target_dist, optimizer, batch_size):\n",
        "\n",
        "    data_batch = target_dist.sample(batch_size)\n",
        "    with tf.GradientTape() as tape:\n",
        "      u, log_det_jacob_inv_transf = RNVP_obj.chain_inverse(data_batch)\n",
        "      loss = rnvp_loss(base_dist, log_det_jacob_inv_transf, u)\n",
        "    \n",
        "    gradients = tape.gradient(loss, tape.watched_variables())\n",
        "    \n",
        "    found = False\n",
        "    for grad in gradients:\n",
        "        if(check_nan(grad).numpy() != 0):\n",
        "          found = True\n",
        "            \n",
        "    if(not found):\n",
        "      optimizer.apply_gradients(zip(gradients, tape.watched_variables()))\n",
        "    else: \n",
        "      return 0\n",
        "\n",
        "    print(iteration, \" ----> \", loss.numpy())\n",
        "    return 1"
      ],
      "metadata": {
        "id": "DPTYf7qFbFDN"
      },
      "execution_count": null,
      "outputs": [],
      "id": "DPTYf7qFbFDN"
    },
    {
      "cell_type": "code",
      "source": [
        "def train_rnvp(epochs = 1, lr = 0.001, batch_size = 128, number_of_batches = 1000):\n",
        "  optimizer = optimizers.Adam(learning_rate = lr)\n",
        "\n",
        "  for i in range(number_of_batches):\n",
        "    val = one_step(i, RNVP_obj, base_dist, target_dist, optimizer, batch_size)\n",
        "    if(val == 0):\n",
        "      break"
      ],
      "metadata": {
        "id": "7AfWheWIYx8R"
      },
      "execution_count": null,
      "outputs": [],
      "id": "7AfWheWIYx8R"
    },
    {
      "cell_type": "code",
      "source": [
        "train_rnvp(1, .001, 128, 1000)"
      ],
      "metadata": {
        "colab": {
          "base_uri": "https://localhost:8080/"
        },
        "id": "XVJFHBiQgMCe",
        "outputId": "8db120fd-f1cb-4fd0-ad58-eaf475426ad4"
      },
      "execution_count": null,
      "outputs": [
        {
          "output_type": "stream",
          "name": "stdout",
          "text": [
            "0  ---->  5.3044653\n",
            "1  ---->  4.000891\n",
            "2  ---->  3.8810418\n",
            "3  ---->  3.7828393\n",
            "4  ---->  3.953313\n",
            "5  ---->  3.8390727\n",
            "6  ---->  3.600141\n",
            "7  ---->  3.7336237\n",
            "8  ---->  3.8912988\n",
            "9  ---->  3.636093\n",
            "10  ---->  3.5435388\n",
            "11  ---->  3.5219626\n",
            "12  ---->  3.3860164\n",
            "13  ---->  3.432836\n",
            "14  ---->  3.6119437\n",
            "15  ---->  3.4089532\n",
            "16  ---->  3.400233\n",
            "17  ---->  3.4429054\n",
            "18  ---->  3.2286007\n",
            "19  ---->  3.345423\n",
            "20  ---->  3.235713\n",
            "21  ---->  3.2951417\n",
            "22  ---->  3.3949842\n",
            "23  ---->  3.2935562\n",
            "24  ---->  3.214097\n",
            "25  ---->  3.3520374\n",
            "26  ---->  3.1750643\n",
            "27  ---->  3.3141837\n",
            "28  ---->  3.4079614\n",
            "29  ---->  3.3676333\n",
            "30  ---->  3.1911058\n",
            "31  ---->  3.0520515\n",
            "32  ---->  3.0056498\n",
            "33  ---->  3.1704535\n",
            "34  ---->  3.094688\n",
            "35  ---->  3.1128502\n",
            "36  ---->  2.9964216\n",
            "37  ---->  3.4135299\n",
            "38  ---->  3.3656113\n",
            "39  ---->  3.1467614\n",
            "40  ---->  3.071423\n",
            "41  ---->  3.1236355\n",
            "42  ---->  2.9388778\n",
            "43  ---->  3.1816652\n",
            "44  ---->  3.0983753\n",
            "45  ---->  3.0499187\n",
            "46  ---->  2.9928074\n",
            "47  ---->  3.161637\n",
            "48  ---->  3.2507057\n",
            "49  ---->  2.8874083\n",
            "50  ---->  2.8976817\n",
            "51  ---->  2.9744227\n",
            "52  ---->  3.0942655\n",
            "53  ---->  2.9141037\n",
            "54  ---->  2.7929707\n",
            "55  ---->  2.7468061\n",
            "56  ---->  2.8746293\n",
            "57  ---->  2.941833\n",
            "58  ---->  2.9109435\n",
            "59  ---->  2.7944694\n",
            "60  ---->  2.7874928\n",
            "61  ---->  2.6596105\n",
            "62  ---->  2.9678166\n",
            "63  ---->  2.4521775\n",
            "64  ---->  2.69271\n",
            "65  ---->  3.0301015\n",
            "66  ---->  3.024675\n",
            "67  ---->  2.7790086\n",
            "68  ---->  3.0629773\n",
            "69  ---->  2.532823\n",
            "70  ---->  2.4817462\n",
            "71  ---->  2.6207433\n",
            "72  ---->  2.5595212\n",
            "73  ---->  2.681726\n",
            "74  ---->  2.4454741\n",
            "75  ---->  2.5241344\n",
            "76  ---->  2.6095119\n",
            "77  ---->  2.5317159\n",
            "78  ---->  2.474298\n",
            "79  ---->  2.5902658\n",
            "80  ---->  2.333236\n",
            "81  ---->  2.5809875\n",
            "82  ---->  2.4853628\n",
            "83  ---->  2.089106\n",
            "84  ---->  2.7331066\n",
            "85  ---->  2.2523558\n",
            "86  ---->  2.6230817\n",
            "87  ---->  2.4622817\n",
            "88  ---->  2.2923903\n",
            "89  ---->  2.4154515\n",
            "90  ---->  2.4013953\n",
            "91  ---->  2.4100826\n",
            "92  ---->  2.374092\n",
            "93  ---->  2.4201841\n",
            "94  ---->  2.3507457\n",
            "95  ---->  2.6240435\n",
            "96  ---->  2.1617324\n",
            "97  ---->  2.2329364\n",
            "98  ---->  2.2861578\n",
            "99  ---->  2.3829088\n",
            "100  ---->  2.3312213\n",
            "101  ---->  2.5673103\n",
            "102  ---->  2.103016\n",
            "103  ---->  2.1980968\n",
            "104  ---->  2.4266467\n",
            "105  ---->  2.3206463\n",
            "106  ---->  2.2393746\n",
            "107  ---->  2.330674\n",
            "108  ---->  2.2015615\n",
            "109  ---->  2.453761\n",
            "110  ---->  3.5455132\n",
            "111  ---->  2.892602\n",
            "112  ---->  3.1453693\n",
            "113  ---->  2.835478\n",
            "114  ---->  2.2503214\n",
            "115  ---->  2.537994\n",
            "116  ---->  2.9080083\n",
            "117  ---->  2.8823261\n",
            "118  ---->  2.7862625\n",
            "119  ---->  2.5983875\n",
            "120  ---->  2.525433\n",
            "121  ---->  3.0253122\n",
            "122  ---->  2.600397\n",
            "123  ---->  2.5567985\n",
            "124  ---->  2.4816961\n",
            "125  ---->  2.6428936\n",
            "126  ---->  2.4046783\n",
            "127  ---->  2.763964\n",
            "128  ---->  2.4047034\n",
            "129  ---->  2.6197257\n",
            "130  ---->  2.4634206\n",
            "131  ---->  2.4483678\n",
            "132  ---->  2.3572025\n",
            "133  ---->  2.5248408\n",
            "134  ---->  2.369132\n",
            "135  ---->  2.483263\n",
            "136  ---->  2.3383982\n",
            "137  ---->  2.3591685\n",
            "138  ---->  2.3593774\n",
            "139  ---->  2.457425\n",
            "140  ---->  2.292744\n",
            "141  ---->  2.4261127\n",
            "142  ---->  2.307647\n",
            "143  ---->  2.4535089\n",
            "144  ---->  2.2996078\n",
            "145  ---->  2.3719192\n",
            "146  ---->  2.1401157\n",
            "147  ---->  2.335064\n",
            "148  ---->  2.445341\n",
            "149  ---->  2.4249444\n",
            "150  ---->  2.2965925\n",
            "151  ---->  2.4105432\n",
            "152  ---->  2.0886168\n",
            "153  ---->  2.4406283\n",
            "154  ---->  2.2809012\n",
            "155  ---->  2.2871249\n",
            "156  ---->  2.0793133\n",
            "157  ---->  2.0560355\n",
            "158  ---->  2.4867342\n",
            "159  ---->  2.3177204\n",
            "160  ---->  2.554847\n",
            "161  ---->  2.1945028\n",
            "162  ---->  2.240424\n",
            "163  ---->  2.2992477\n",
            "164  ---->  2.362487\n",
            "165  ---->  2.34051\n",
            "166  ---->  2.0545523\n",
            "167  ---->  2.369506\n",
            "168  ---->  2.241438\n",
            "169  ---->  1.9429243\n",
            "170  ---->  2.0183988\n",
            "171  ---->  2.2523482\n",
            "172  ---->  2.0406096\n",
            "173  ---->  2.2164454\n",
            "174  ---->  2.53586\n",
            "175  ---->  2.5254743\n",
            "176  ---->  2.2820292\n",
            "177  ---->  2.0596662\n",
            "178  ---->  1.9772463\n",
            "179  ---->  2.466434\n",
            "180  ---->  2.492135\n",
            "181  ---->  2.2698147\n",
            "182  ---->  2.1003375\n",
            "183  ---->  2.2087429\n",
            "184  ---->  2.2068033\n",
            "185  ---->  2.2734284\n",
            "186  ---->  2.1140468\n",
            "187  ---->  2.4279282\n",
            "188  ---->  2.0932503\n",
            "189  ---->  2.1405764\n",
            "190  ---->  2.0254786\n",
            "191  ---->  2.3872514\n",
            "192  ---->  2.2111228\n",
            "193  ---->  2.0832987\n",
            "194  ---->  2.2141533\n",
            "195  ---->  2.4579182\n",
            "196  ---->  2.0372283\n",
            "197  ---->  2.1178675\n",
            "198  ---->  2.2459817\n",
            "199  ---->  2.063584\n",
            "200  ---->  2.0914075\n",
            "201  ---->  2.0228877\n",
            "202  ---->  2.1676157\n",
            "203  ---->  2.0127854\n",
            "204  ---->  2.3192346\n",
            "205  ---->  1.7868804\n",
            "206  ---->  1.8635399\n",
            "207  ---->  1.8373822\n",
            "208  ---->  3.384181\n",
            "209  ---->  2.0862575\n",
            "210  ---->  1.7933939\n",
            "211  ---->  1.8907481\n",
            "212  ---->  2.1844397\n",
            "213  ---->  1.8087158\n",
            "214  ---->  2.1751742\n",
            "215  ---->  1.8255894\n",
            "216  ---->  2.1948233\n",
            "217  ---->  2.1357126\n",
            "218  ---->  1.954128\n",
            "219  ---->  2.387969\n",
            "220  ---->  2.352628\n",
            "221  ---->  2.2179508\n",
            "222  ---->  2.2815037\n",
            "223  ---->  2.2674296\n",
            "224  ---->  2.2660775\n",
            "225  ---->  2.2191272\n",
            "226  ---->  2.163151\n",
            "227  ---->  2.1053371\n",
            "228  ---->  1.9324266\n",
            "229  ---->  2.029635\n",
            "230  ---->  2.661028\n",
            "231  ---->  2.194756\n",
            "232  ---->  2.0737677\n",
            "233  ---->  1.8871527\n",
            "234  ---->  2.3245363\n",
            "235  ---->  2.2050223\n",
            "236  ---->  2.13151\n",
            "237  ---->  2.1780949\n",
            "238  ---->  2.4311109\n",
            "239  ---->  2.0693817\n",
            "240  ---->  2.3114681\n",
            "241  ---->  2.219542\n",
            "242  ---->  2.1938128\n",
            "243  ---->  2.3127565\n",
            "244  ---->  2.0190325\n",
            "245  ---->  2.083983\n",
            "246  ---->  2.2932\n",
            "247  ---->  2.092507\n",
            "248  ---->  2.3651748\n",
            "249  ---->  2.2526228\n",
            "250  ---->  1.9656676\n",
            "251  ---->  2.0421367\n",
            "252  ---->  2.1025705\n",
            "253  ---->  2.1701558\n",
            "254  ---->  1.7830017\n",
            "255  ---->  1.8597643\n",
            "256  ---->  2.1934586\n",
            "257  ---->  2.1397657\n",
            "258  ---->  2.2511756\n",
            "259  ---->  2.1175122\n",
            "260  ---->  2.1663785\n",
            "261  ---->  2.0817056\n",
            "262  ---->  2.2480154\n",
            "263  ---->  2.3324943\n",
            "264  ---->  2.230855\n",
            "265  ---->  2.2183545\n",
            "266  ---->  2.0713747\n",
            "267  ---->  2.1254876\n",
            "268  ---->  2.0093493\n",
            "269  ---->  2.163041\n",
            "270  ---->  2.0898304\n",
            "271  ---->  2.3214235\n",
            "272  ---->  2.1318364\n",
            "273  ---->  2.0814307\n",
            "274  ---->  2.119042\n",
            "275  ---->  2.3436985\n",
            "276  ---->  1.9393213\n",
            "277  ---->  2.3721364\n",
            "278  ---->  2.2858481\n",
            "279  ---->  2.420013\n",
            "280  ---->  1.852603\n",
            "281  ---->  2.176208\n",
            "282  ---->  2.0747595\n",
            "283  ---->  2.1203825\n",
            "284  ---->  2.3799155\n",
            "285  ---->  2.0475817\n",
            "286  ---->  2.213923\n",
            "287  ---->  2.0168538\n",
            "288  ---->  2.074596\n",
            "289  ---->  2.188664\n",
            "290  ---->  1.8888655\n",
            "291  ---->  2.3378332\n",
            "292  ---->  2.5808458\n",
            "293  ---->  1.9664936\n",
            "294  ---->  2.412777\n",
            "295  ---->  2.0471523\n",
            "296  ---->  2.2566352\n",
            "297  ---->  2.0890167\n",
            "298  ---->  2.5706828\n",
            "299  ---->  2.0572114\n",
            "300  ---->  1.9925628\n",
            "301  ---->  2.2272983\n",
            "302  ---->  1.9373308\n",
            "303  ---->  2.0788236\n",
            "304  ---->  1.9638411\n",
            "305  ---->  1.8348029\n",
            "306  ---->  1.925663\n",
            "307  ---->  2.1486812\n",
            "308  ---->  2.0055268\n",
            "309  ---->  2.0283484\n",
            "310  ---->  2.1748533\n",
            "311  ---->  1.921427\n",
            "312  ---->  2.4170294\n",
            "313  ---->  2.0018425\n",
            "314  ---->  2.0826428\n",
            "315  ---->  1.8382493\n",
            "316  ---->  2.0083\n",
            "317  ---->  2.1327636\n",
            "318  ---->  2.4645119\n",
            "319  ---->  2.0258777\n",
            "320  ---->  2.3148015\n",
            "321  ---->  1.9335668\n",
            "322  ---->  1.925402\n",
            "323  ---->  1.9735985\n",
            "324  ---->  2.1293783\n",
            "325  ---->  1.7661397\n",
            "326  ---->  2.2263436\n",
            "327  ---->  2.0499907\n",
            "328  ---->  1.8890724\n",
            "329  ---->  2.1318736\n",
            "330  ---->  2.166379\n",
            "331  ---->  1.848909\n",
            "332  ---->  2.1304388\n",
            "333  ---->  2.1130466\n",
            "334  ---->  2.2639332\n",
            "335  ---->  2.0570884\n",
            "336  ---->  2.249251\n",
            "337  ---->  2.0489516\n",
            "338  ---->  1.9769771\n",
            "339  ---->  2.185278\n",
            "340  ---->  1.8811091\n",
            "341  ---->  2.255084\n",
            "342  ---->  2.07053\n",
            "343  ---->  2.178101\n",
            "344  ---->  1.9883405\n",
            "345  ---->  1.9814768\n",
            "346  ---->  2.0818782\n",
            "347  ---->  2.2258797\n",
            "348  ---->  2.1695037\n",
            "349  ---->  1.9653664\n",
            "350  ---->  2.131104\n",
            "351  ---->  1.9769778\n",
            "352  ---->  2.112751\n",
            "353  ---->  1.8862362\n",
            "354  ---->  2.2243516\n",
            "355  ---->  2.1635454\n",
            "356  ---->  2.237615\n",
            "357  ---->  2.0281916\n",
            "358  ---->  2.494565\n",
            "359  ---->  1.9503782\n",
            "360  ---->  1.7388959\n",
            "361  ---->  1.954923\n",
            "362  ---->  1.7665623\n",
            "363  ---->  1.738431\n",
            "364  ---->  2.3750796\n",
            "365  ---->  1.9515951\n",
            "366  ---->  1.9646193\n",
            "367  ---->  1.754514\n",
            "368  ---->  2.2615454\n",
            "369  ---->  2.0166302\n",
            "370  ---->  2.2623672\n",
            "371  ---->  2.163181\n",
            "372  ---->  1.8776307\n",
            "373  ---->  2.2485595\n",
            "374  ---->  2.2268062\n",
            "375  ---->  1.9976913\n",
            "376  ---->  2.149591\n",
            "377  ---->  2.1660676\n",
            "378  ---->  2.055952\n",
            "379  ---->  2.0451484\n",
            "380  ---->  2.1049626\n",
            "381  ---->  1.8370962\n",
            "382  ---->  1.804779\n",
            "383  ---->  1.6544325\n",
            "384  ---->  1.9966717\n",
            "385  ---->  2.0906363\n",
            "386  ---->  2.063458\n",
            "387  ---->  2.1586866\n",
            "388  ---->  1.9786302\n",
            "389  ---->  2.0719988\n",
            "390  ---->  2.216607\n",
            "391  ---->  2.1387532\n",
            "392  ---->  2.0020676\n",
            "393  ---->  2.2656155\n",
            "394  ---->  2.306923\n",
            "395  ---->  2.1154327\n",
            "396  ---->  2.082407\n",
            "397  ---->  2.2669537\n",
            "398  ---->  2.061421\n",
            "399  ---->  1.9261627\n",
            "400  ---->  2.065775\n",
            "401  ---->  2.0196428\n",
            "402  ---->  1.9485364\n",
            "403  ---->  2.3471537\n",
            "404  ---->  2.1213095\n",
            "405  ---->  2.1171331\n",
            "406  ---->  2.0774405\n",
            "407  ---->  2.04188\n",
            "408  ---->  1.9273158\n",
            "409  ---->  1.771388\n",
            "410  ---->  1.9502561\n",
            "411  ---->  2.2254431\n",
            "412  ---->  2.1369984\n",
            "413  ---->  2.0175982\n",
            "414  ---->  2.151294\n",
            "415  ---->  2.4234605\n",
            "416  ---->  1.7428551\n",
            "417  ---->  2.1012614\n",
            "418  ---->  2.0103073\n",
            "419  ---->  1.9234602\n",
            "420  ---->  1.98414\n",
            "421  ---->  2.4049423\n",
            "422  ---->  2.1185431\n",
            "423  ---->  1.7396843\n",
            "424  ---->  2.0870109\n",
            "425  ---->  2.1518712\n",
            "426  ---->  2.047853\n",
            "427  ---->  2.1796257\n",
            "428  ---->  2.0388296\n",
            "429  ---->  1.9360335\n",
            "430  ---->  2.308284\n",
            "431  ---->  2.116033\n",
            "432  ---->  1.9503179\n",
            "433  ---->  2.0235257\n",
            "434  ---->  2.1885328\n",
            "435  ---->  2.1460688\n",
            "436  ---->  2.1609972\n",
            "437  ---->  2.368741\n",
            "438  ---->  2.071342\n",
            "439  ---->  2.1024547\n",
            "440  ---->  2.5828118\n",
            "441  ---->  2.099884\n",
            "442  ---->  1.9409499\n",
            "443  ---->  1.8083208\n",
            "444  ---->  2.3630323\n",
            "445  ---->  2.040498\n",
            "446  ---->  2.1767697\n",
            "447  ---->  2.1673448\n",
            "448  ---->  2.1045423\n",
            "449  ---->  2.2408051\n",
            "450  ---->  2.1285143\n",
            "451  ---->  1.9864304\n",
            "452  ---->  2.1145167\n",
            "453  ---->  1.9077494\n",
            "454  ---->  1.9748112\n",
            "455  ---->  1.743708\n",
            "456  ---->  2.0591846\n",
            "457  ---->  2.1998186\n",
            "458  ---->  1.8603499\n",
            "459  ---->  2.0203667\n",
            "460  ---->  2.2324443\n",
            "461  ---->  2.2299669\n",
            "462  ---->  2.2674096\n",
            "463  ---->  2.0340874\n",
            "464  ---->  1.831259\n",
            "465  ---->  2.0273643\n",
            "466  ---->  2.2583184\n",
            "467  ---->  2.2648773\n",
            "468  ---->  2.2820735\n",
            "469  ---->  1.9213212\n",
            "470  ---->  2.1229234\n",
            "471  ---->  2.0771158\n",
            "472  ---->  2.4055073\n",
            "473  ---->  2.2722301\n",
            "474  ---->  2.0071945\n",
            "475  ---->  2.1832998\n",
            "476  ---->  2.0757613\n",
            "477  ---->  2.09343\n",
            "478  ---->  2.0224304\n",
            "479  ---->  2.2032628\n",
            "480  ---->  2.253432\n",
            "481  ---->  1.992459\n",
            "482  ---->  2.1871448\n",
            "483  ---->  1.9938006\n",
            "484  ---->  1.8488921\n",
            "485  ---->  2.0972307\n",
            "486  ---->  1.9025834\n",
            "487  ---->  2.0795045\n",
            "488  ---->  1.8258615\n",
            "489  ---->  2.354025\n",
            "490  ---->  1.9667274\n",
            "491  ---->  1.8748205\n",
            "492  ---->  2.1573582\n",
            "493  ---->  2.16655\n",
            "494  ---->  1.9868777\n",
            "495  ---->  1.6946926\n",
            "496  ---->  1.932128\n",
            "497  ---->  1.9902939\n",
            "498  ---->  1.969297\n",
            "499  ---->  2.0019345\n",
            "500  ---->  1.7842782\n",
            "501  ---->  1.9812639\n",
            "502  ---->  1.8660452\n",
            "503  ---->  2.2634676\n",
            "504  ---->  2.1196704\n",
            "505  ---->  2.0726938\n",
            "506  ---->  1.9446983\n",
            "507  ---->  2.000924\n",
            "508  ---->  2.328702\n",
            "509  ---->  1.8081647\n",
            "510  ---->  1.7951713\n",
            "511  ---->  1.8199776\n",
            "512  ---->  2.2995105\n",
            "513  ---->  2.2046313\n",
            "514  ---->  1.7801087\n",
            "515  ---->  2.2769616\n",
            "516  ---->  2.1543777\n",
            "517  ---->  1.9889452\n",
            "518  ---->  2.001603\n",
            "519  ---->  2.1317449\n",
            "520  ---->  1.7657425\n",
            "521  ---->  2.2581637\n",
            "522  ---->  1.8312984\n",
            "523  ---->  1.9101758\n",
            "524  ---->  2.0428162\n",
            "525  ---->  2.1072323\n",
            "526  ---->  1.6702576\n",
            "527  ---->  1.7509775\n",
            "528  ---->  1.8145893\n",
            "529  ---->  1.906663\n",
            "530  ---->  2.560124\n",
            "531  ---->  1.9462762\n",
            "532  ---->  2.0829096\n",
            "533  ---->  2.0460474\n",
            "534  ---->  1.7834042\n",
            "535  ---->  2.0963738\n",
            "536  ---->  2.019523\n",
            "537  ---->  1.7563426\n",
            "538  ---->  1.9699211\n",
            "539  ---->  2.0837212\n",
            "540  ---->  2.2017438\n",
            "541  ---->  2.2885008\n",
            "542  ---->  2.2150552\n",
            "543  ---->  1.7077044\n",
            "544  ---->  1.9860114\n",
            "545  ---->  1.8483188\n",
            "546  ---->  1.9097192\n",
            "547  ---->  2.1948051\n",
            "548  ---->  2.1429772\n",
            "549  ---->  1.8839802\n",
            "550  ---->  1.9456365\n",
            "551  ---->  1.7765169\n",
            "552  ---->  2.0432806\n",
            "553  ---->  1.9749241\n",
            "554  ---->  1.7854617\n",
            "555  ---->  2.0661025\n",
            "556  ---->  2.2630715\n",
            "557  ---->  2.00591\n",
            "558  ---->  1.6103983\n",
            "559  ---->  2.2182226\n",
            "560  ---->  1.9308287\n",
            "561  ---->  2.0112834\n",
            "562  ---->  2.0595484\n",
            "563  ---->  1.972815\n",
            "564  ---->  1.860236\n",
            "565  ---->  2.0174804\n",
            "566  ---->  1.8406913\n",
            "567  ---->  2.0362635\n",
            "568  ---->  2.051\n",
            "569  ---->  2.213502\n",
            "570  ---->  2.2386618\n",
            "571  ---->  2.1576715\n",
            "572  ---->  2.2116756\n",
            "573  ---->  1.954912\n",
            "574  ---->  1.8575917\n",
            "575  ---->  1.8427744\n",
            "576  ---->  1.9226903\n",
            "577  ---->  2.4713929\n",
            "578  ---->  1.8219812\n",
            "579  ---->  1.8783449\n",
            "580  ---->  1.9575425\n",
            "581  ---->  1.9906168\n",
            "582  ---->  1.8424907\n",
            "583  ---->  2.0245223\n",
            "584  ---->  2.0425627\n",
            "585  ---->  1.816601\n",
            "586  ---->  1.9090828\n",
            "587  ---->  2.1045773\n",
            "588  ---->  2.3305979\n",
            "589  ---->  2.3716552\n",
            "590  ---->  2.0977201\n",
            "591  ---->  1.9772961\n",
            "592  ---->  1.6667988\n",
            "593  ---->  1.8145039\n",
            "594  ---->  2.041215\n",
            "595  ---->  1.8534461\n",
            "596  ---->  2.0385218\n",
            "597  ---->  1.7716947\n",
            "598  ---->  1.8752444\n",
            "599  ---->  1.9852221\n",
            "600  ---->  2.0203745\n",
            "601  ---->  2.12502\n",
            "602  ---->  2.0547955\n",
            "603  ---->  2.2569451\n",
            "604  ---->  1.9571134\n",
            "605  ---->  1.7714797\n",
            "606  ---->  2.260183\n",
            "607  ---->  1.7747504\n",
            "608  ---->  2.3027515\n",
            "609  ---->  1.9860628\n",
            "610  ---->  2.245308\n",
            "611  ---->  1.9422028\n",
            "612  ---->  1.8877351\n",
            "613  ---->  1.9309137\n",
            "614  ---->  1.9399915\n",
            "615  ---->  2.0596032\n",
            "616  ---->  2.1900969\n",
            "617  ---->  1.9530344\n",
            "618  ---->  1.8285527\n",
            "619  ---->  2.021051\n",
            "620  ---->  2.0492485\n",
            "621  ---->  1.9894898\n",
            "622  ---->  2.0024428\n",
            "623  ---->  1.9443538\n",
            "624  ---->  2.020374\n",
            "625  ---->  1.7318473\n",
            "626  ---->  2.3144045\n",
            "627  ---->  2.0260687\n",
            "628  ---->  1.8967054\n",
            "629  ---->  1.9905901\n",
            "630  ---->  2.044704\n",
            "631  ---->  1.940469\n",
            "632  ---->  1.8776371\n",
            "633  ---->  2.268301\n",
            "634  ---->  2.202928\n",
            "635  ---->  1.8894552\n",
            "636  ---->  1.8847015\n",
            "637  ---->  2.1042209\n",
            "638  ---->  2.1079724\n",
            "639  ---->  2.158682\n",
            "640  ---->  2.0422306\n",
            "641  ---->  2.4955413\n",
            "642  ---->  2.1043377\n",
            "643  ---->  2.135013\n",
            "644  ---->  2.279234\n",
            "645  ---->  2.0988564\n",
            "646  ---->  2.0394611\n",
            "647  ---->  2.2094152\n",
            "648  ---->  2.1041303\n",
            "649  ---->  2.3369145\n",
            "650  ---->  2.0626602\n",
            "651  ---->  2.1900322\n",
            "652  ---->  1.9339246\n",
            "653  ---->  2.020025\n",
            "654  ---->  2.2044854\n",
            "655  ---->  2.1702375\n",
            "656  ---->  1.9766419\n",
            "657  ---->  1.9522841\n",
            "658  ---->  1.9170679\n",
            "659  ---->  2.033835\n",
            "660  ---->  2.0699072\n",
            "661  ---->  2.0819387\n",
            "662  ---->  2.1105096\n",
            "663  ---->  2.0828977\n",
            "664  ---->  1.8722749\n",
            "665  ---->  2.1024466\n",
            "666  ---->  2.0116997\n",
            "667  ---->  1.73561\n",
            "668  ---->  2.1702416\n",
            "669  ---->  2.0025103\n",
            "670  ---->  2.0175853\n",
            "671  ---->  1.9620748\n",
            "672  ---->  1.9848564\n",
            "673  ---->  2.4053092\n",
            "674  ---->  1.8893418\n",
            "675  ---->  1.6309574\n",
            "676  ---->  1.8094666\n",
            "677  ---->  1.9278052\n",
            "678  ---->  2.0097916\n",
            "679  ---->  1.9879968\n",
            "680  ---->  1.8660313\n",
            "681  ---->  1.9416845\n",
            "682  ---->  1.8877391\n",
            "683  ---->  2.3726006\n",
            "684  ---->  1.750516\n",
            "685  ---->  1.9363563\n",
            "686  ---->  1.9790064\n",
            "687  ---->  2.0137587\n",
            "688  ---->  2.1318326\n",
            "689  ---->  1.9470961\n",
            "690  ---->  2.0465624\n",
            "691  ---->  2.0908713\n",
            "692  ---->  2.1060896\n",
            "693  ---->  2.0790815\n",
            "694  ---->  1.7826257\n",
            "695  ---->  1.978761\n",
            "696  ---->  1.9756377\n",
            "697  ---->  2.7461882\n",
            "698  ---->  2.0180562\n",
            "699  ---->  2.2960162\n",
            "700  ---->  1.8989602\n",
            "701  ---->  1.9033124\n",
            "702  ---->  2.0873184\n",
            "703  ---->  2.3447714\n",
            "704  ---->  1.9099314\n",
            "705  ---->  1.8270786\n",
            "706  ---->  1.8332689\n",
            "707  ---->  2.1712086\n",
            "708  ---->  2.522371\n",
            "709  ---->  2.0351152\n",
            "710  ---->  1.9655113\n",
            "711  ---->  2.2093256\n",
            "712  ---->  1.7851684\n",
            "713  ---->  1.94396\n",
            "714  ---->  2.0163426\n",
            "715  ---->  1.7471967\n",
            "716  ---->  2.0680556\n",
            "717  ---->  1.898847\n",
            "718  ---->  1.9692736\n",
            "719  ---->  1.9691026\n",
            "720  ---->  1.9829113\n",
            "721  ---->  2.1727474\n",
            "722  ---->  2.0969572\n",
            "723  ---->  2.1583562\n",
            "724  ---->  1.9093621\n",
            "725  ---->  2.1996555\n",
            "726  ---->  2.039037\n",
            "727  ---->  2.4411252\n",
            "728  ---->  2.0888636\n",
            "729  ---->  1.9515116\n",
            "730  ---->  2.379916\n",
            "731  ---->  2.323607\n",
            "732  ---->  2.2598658\n",
            "733  ---->  1.8043494\n",
            "734  ---->  2.096457\n",
            "735  ---->  2.265427\n",
            "736  ---->  1.8967773\n",
            "737  ---->  1.9518044\n",
            "738  ---->  1.889714\n",
            "739  ---->  2.2490003\n",
            "740  ---->  2.1968322\n",
            "741  ---->  2.1376562\n",
            "742  ---->  2.0243292\n",
            "743  ---->  1.9943273\n",
            "744  ---->  1.975753\n",
            "745  ---->  2.125212\n",
            "746  ---->  2.0821855\n",
            "747  ---->  1.8458476\n",
            "748  ---->  2.1169167\n",
            "749  ---->  1.9301884\n",
            "750  ---->  2.2593105\n",
            "751  ---->  2.2415295\n",
            "752  ---->  2.034441\n",
            "753  ---->  2.1791966\n",
            "754  ---->  2.1275651\n",
            "755  ---->  1.8922929\n",
            "756  ---->  2.3060555\n",
            "757  ---->  1.988592\n",
            "758  ---->  2.4379842\n",
            "759  ---->  1.9624188\n",
            "760  ---->  1.9970319\n",
            "761  ---->  2.1813521\n",
            "762  ---->  2.1232119\n",
            "763  ---->  2.190326\n",
            "764  ---->  1.91737\n",
            "765  ---->  2.0312014\n",
            "766  ---->  2.154199\n",
            "767  ---->  1.9766488\n",
            "768  ---->  1.9134773\n",
            "769  ---->  1.9026247\n",
            "770  ---->  1.9590284\n",
            "771  ---->  2.3007154\n",
            "772  ---->  2.236484\n",
            "773  ---->  1.8779188\n",
            "774  ---->  1.7388995\n",
            "775  ---->  2.1353114\n",
            "776  ---->  2.1641092\n",
            "777  ---->  2.0343246\n",
            "778  ---->  2.2893267\n",
            "779  ---->  2.3312254\n",
            "780  ---->  1.8614444\n",
            "781  ---->  1.7882183\n",
            "782  ---->  1.8496295\n",
            "783  ---->  2.293762\n",
            "784  ---->  2.2255857\n",
            "785  ---->  2.149934\n",
            "786  ---->  2.0385728\n",
            "787  ---->  2.032358\n",
            "788  ---->  2.0849204\n",
            "789  ---->  1.8677847\n",
            "790  ---->  1.9752645\n",
            "791  ---->  1.7582986\n",
            "792  ---->  1.9895917\n",
            "793  ---->  2.0500057\n",
            "794  ---->  2.008152\n",
            "795  ---->  2.0796251\n",
            "796  ---->  2.121778\n",
            "797  ---->  2.0138779\n",
            "798  ---->  1.9266949\n",
            "799  ---->  2.187067\n",
            "800  ---->  2.004814\n",
            "801  ---->  2.2322345\n",
            "802  ---->  2.0952077\n",
            "803  ---->  1.9825145\n",
            "804  ---->  1.8171933\n",
            "805  ---->  1.6168287\n",
            "806  ---->  2.0941744\n",
            "807  ---->  2.1527948\n",
            "808  ---->  2.1036541\n",
            "809  ---->  2.0727413\n",
            "810  ---->  1.9810832\n",
            "811  ---->  2.033218\n",
            "812  ---->  1.988697\n",
            "813  ---->  1.9123617\n",
            "814  ---->  1.9007237\n",
            "815  ---->  2.0394866\n",
            "816  ---->  1.9202715\n",
            "817  ---->  1.9042135\n",
            "818  ---->  2.0815685\n",
            "819  ---->  2.0069387\n",
            "820  ---->  1.9894679\n",
            "821  ---->  2.101491\n",
            "822  ---->  1.7918802\n",
            "823  ---->  1.9734849\n",
            "824  ---->  2.0529919\n",
            "825  ---->  2.136012\n",
            "826  ---->  1.9050478\n",
            "827  ---->  1.8657122\n",
            "828  ---->  1.6708093\n",
            "829  ---->  2.090934\n",
            "830  ---->  1.8865619\n",
            "831  ---->  1.8022995\n",
            "832  ---->  2.0372329\n",
            "833  ---->  1.9967964\n",
            "834  ---->  1.8436036\n",
            "835  ---->  1.9549062\n",
            "836  ---->  2.1276507\n",
            "837  ---->  1.7212745\n",
            "838  ---->  1.757806\n",
            "839  ---->  2.0370953\n",
            "840  ---->  1.7195697\n",
            "841  ---->  1.9341378\n",
            "842  ---->  2.0672967\n",
            "843  ---->  1.6788082\n",
            "844  ---->  1.8416443\n",
            "845  ---->  1.8732591\n",
            "846  ---->  2.0278049\n",
            "847  ---->  2.267744\n",
            "848  ---->  2.1354187\n",
            "849  ---->  2.2217505\n",
            "850  ---->  1.671748\n",
            "851  ---->  2.2205288\n",
            "852  ---->  1.9777923\n",
            "853  ---->  1.9171981\n",
            "854  ---->  2.0336218\n",
            "855  ---->  1.7775781\n",
            "856  ---->  2.0410967\n",
            "857  ---->  1.9656911\n",
            "858  ---->  2.1612165\n",
            "859  ---->  1.9097785\n",
            "860  ---->  2.047898\n",
            "861  ---->  1.8778678\n",
            "862  ---->  2.0313313\n",
            "863  ---->  1.8394885\n",
            "864  ---->  1.9203508\n",
            "865  ---->  2.0500154\n",
            "866  ---->  1.7071401\n",
            "867  ---->  1.7909985\n",
            "868  ---->  1.991034\n",
            "869  ---->  2.1396074\n",
            "870  ---->  2.24627\n",
            "871  ---->  2.2319493\n",
            "872  ---->  2.119227\n",
            "873  ---->  2.0317612\n",
            "874  ---->  1.7964466\n",
            "875  ---->  2.0496893\n",
            "876  ---->  2.0233352\n",
            "877  ---->  1.9069161\n",
            "878  ---->  2.0423322\n",
            "879  ---->  1.9272423\n",
            "880  ---->  1.7922568\n",
            "881  ---->  2.124\n",
            "882  ---->  1.9958458\n",
            "883  ---->  2.0755978\n",
            "884  ---->  2.1725812\n",
            "885  ---->  1.807567\n",
            "886  ---->  1.9946487\n",
            "887  ---->  2.022618\n",
            "888  ---->  2.1134048\n",
            "889  ---->  2.0014982\n",
            "890  ---->  1.9633602\n",
            "891  ---->  1.8045034\n",
            "892  ---->  1.8507489\n",
            "893  ---->  1.9928044\n",
            "894  ---->  1.9624629\n",
            "895  ---->  2.1132932\n",
            "896  ---->  1.8765056\n",
            "897  ---->  2.0008478\n",
            "898  ---->  1.954863\n",
            "899  ---->  1.8945214\n",
            "900  ---->  1.9967816\n",
            "901  ---->  1.9632457\n",
            "902  ---->  1.8178093\n",
            "903  ---->  2.037124\n",
            "904  ---->  2.2653863\n",
            "905  ---->  2.3961737\n",
            "906  ---->  2.084478\n",
            "907  ---->  2.3357263\n",
            "908  ---->  2.3008533\n",
            "909  ---->  1.694253\n",
            "910  ---->  2.1986566\n",
            "911  ---->  2.1769657\n",
            "912  ---->  2.1390262\n",
            "913  ---->  1.9037434\n",
            "914  ---->  2.109386\n",
            "915  ---->  2.2366045\n",
            "916  ---->  1.8914688\n",
            "917  ---->  2.0588584\n",
            "918  ---->  2.0770106\n",
            "919  ---->  1.8561752\n",
            "920  ---->  2.015383\n",
            "921  ---->  2.183926\n",
            "922  ---->  2.0444148\n",
            "923  ---->  1.9594202\n",
            "924  ---->  1.7445834\n",
            "925  ---->  1.8718922\n",
            "926  ---->  2.109227\n",
            "927  ---->  2.3293452\n",
            "928  ---->  1.961942\n",
            "929  ---->  2.2713094\n",
            "930  ---->  2.141401\n",
            "931  ---->  1.9619063\n",
            "932  ---->  2.0593321\n",
            "933  ---->  2.1403608\n",
            "934  ---->  2.003614\n",
            "935  ---->  1.7169448\n",
            "936  ---->  1.978646\n",
            "937  ---->  2.3395257\n",
            "938  ---->  1.8916485\n",
            "939  ---->  2.140747\n",
            "940  ---->  2.2851214\n",
            "941  ---->  1.8682952\n",
            "942  ---->  1.9509192\n",
            "943  ---->  2.006165\n",
            "944  ---->  1.8885872\n",
            "945  ---->  2.1095524\n",
            "946  ---->  1.9067613\n",
            "947  ---->  1.9651165\n",
            "948  ---->  1.7554458\n",
            "949  ---->  2.1800294\n",
            "950  ---->  1.8294274\n",
            "951  ---->  1.8148081\n",
            "952  ---->  1.8436284\n",
            "953  ---->  1.8282431\n",
            "954  ---->  1.8011619\n",
            "955  ---->  1.9434156\n",
            "956  ---->  1.8279082\n",
            "957  ---->  1.9422668\n",
            "958  ---->  1.8737149\n",
            "959  ---->  1.9583621\n",
            "960  ---->  1.8087138\n",
            "961  ---->  1.9692543\n",
            "962  ---->  1.9753933\n",
            "963  ---->  1.7191845\n",
            "964  ---->  2.1351633\n",
            "965  ---->  1.7646387\n",
            "966  ---->  2.479204\n",
            "967  ---->  1.7813566\n",
            "968  ---->  1.6583573\n",
            "969  ---->  2.054987\n",
            "970  ---->  2.1651385\n",
            "971  ---->  1.8677342\n",
            "972  ---->  2.0294533\n",
            "973  ---->  2.3352094\n",
            "974  ---->  1.9916118\n",
            "975  ---->  2.0105956\n",
            "976  ---->  1.869497\n",
            "977  ---->  1.7801293\n",
            "978  ---->  1.8562171\n",
            "979  ---->  1.9008106\n",
            "980  ---->  1.804111\n",
            "981  ---->  2.066451\n",
            "982  ---->  2.15556\n",
            "983  ---->  1.9456956\n",
            "984  ---->  2.1786208\n",
            "985  ---->  2.1004171\n",
            "986  ---->  2.0312536\n",
            "987  ---->  2.2211943\n",
            "988  ---->  1.7150282\n",
            "989  ---->  1.9987253\n",
            "990  ---->  1.742247\n",
            "991  ---->  1.8647453\n",
            "992  ---->  1.6841087\n",
            "993  ---->  2.035388\n",
            "994  ---->  2.0684566\n",
            "995  ---->  2.028671\n",
            "996  ---->  2.0734305\n",
            "997  ---->  1.729981\n",
            "998  ---->  2.0988321\n",
            "999  ---->  1.7803338\n"
          ]
        }
      ],
      "id": "XVJFHBiQgMCe"
    },
    {
      "cell_type": "code",
      "source": [
        "train_rnvp(1, .000005, 100, 100)"
      ],
      "metadata": {
        "colab": {
          "base_uri": "https://localhost:8080/"
        },
        "id": "ePkAM_o9jsqc",
        "outputId": "315e8fed-f533-44f1-deb3-5730541c9b05"
      },
      "execution_count": null,
      "outputs": [
        {
          "output_type": "stream",
          "name": "stdout",
          "text": [
            "0  ---->  2.0044506\n",
            "1  ---->  1.8960004\n",
            "2  ---->  1.9036409\n",
            "3  ---->  2.1030064\n",
            "4  ---->  2.0997667\n",
            "5  ---->  1.7598397\n",
            "6  ---->  2.273502\n",
            "7  ---->  2.0814974\n",
            "8  ---->  2.292907\n",
            "9  ---->  2.2959456\n",
            "10  ---->  1.7629826\n",
            "11  ---->  1.9081734\n",
            "12  ---->  1.9466399\n",
            "13  ---->  2.1918893\n",
            "14  ---->  1.8455336\n",
            "15  ---->  2.055819\n",
            "16  ---->  1.9034078\n",
            "17  ---->  2.0086536\n",
            "18  ---->  2.3900347\n",
            "19  ---->  1.7795863\n",
            "20  ---->  2.137541\n",
            "21  ---->  1.8677695\n",
            "22  ---->  1.9938717\n",
            "23  ---->  2.0380063\n",
            "24  ---->  1.9787141\n",
            "25  ---->  2.1702282\n",
            "26  ---->  1.6778258\n",
            "27  ---->  1.6200415\n",
            "28  ---->  2.3303652\n",
            "29  ---->  2.1859891\n",
            "30  ---->  2.0777805\n",
            "31  ---->  2.2654488\n",
            "32  ---->  2.2881777\n",
            "33  ---->  2.0560873\n",
            "34  ---->  1.9873809\n",
            "35  ---->  1.8065015\n",
            "36  ---->  2.015469\n",
            "37  ---->  1.9109272\n",
            "38  ---->  2.2675617\n",
            "39  ---->  1.9731293\n",
            "40  ---->  1.7895828\n",
            "41  ---->  1.9023786\n",
            "42  ---->  2.1204555\n",
            "43  ---->  1.7339149\n",
            "44  ---->  2.0447035\n",
            "45  ---->  2.2478633\n",
            "46  ---->  1.9343457\n",
            "47  ---->  2.0422838\n",
            "48  ---->  1.8966162\n",
            "49  ---->  1.8863978\n",
            "50  ---->  2.1381269\n",
            "51  ---->  1.856074\n",
            "52  ---->  1.7342608\n",
            "53  ---->  2.0240102\n",
            "54  ---->  2.081708\n",
            "55  ---->  1.6400918\n",
            "56  ---->  1.9194528\n",
            "57  ---->  2.1149185\n",
            "58  ---->  2.2144294\n",
            "59  ---->  1.9569002\n",
            "60  ---->  1.6789731\n",
            "61  ---->  1.8494898\n",
            "62  ---->  2.0913353\n",
            "63  ---->  1.9380195\n",
            "64  ---->  2.3252785\n",
            "65  ---->  2.3903012\n",
            "66  ---->  1.7422656\n",
            "67  ---->  2.0817363\n",
            "68  ---->  2.186502\n",
            "69  ---->  1.7414111\n",
            "70  ---->  1.9797593\n",
            "71  ---->  2.0723786\n",
            "72  ---->  1.9733238\n",
            "73  ---->  1.951409\n",
            "74  ---->  1.9287091\n",
            "75  ---->  1.9383973\n",
            "76  ---->  1.9682012\n",
            "77  ---->  2.2795038\n",
            "78  ---->  1.7359356\n",
            "79  ---->  2.2013927\n",
            "80  ---->  1.8934156\n",
            "81  ---->  2.014327\n",
            "82  ---->  1.8823102\n",
            "83  ---->  1.830255\n",
            "84  ---->  2.0365875\n",
            "85  ---->  1.912167\n",
            "86  ---->  1.7005215\n",
            "87  ---->  2.0851808\n",
            "88  ---->  1.8240489\n",
            "89  ---->  1.8125511\n",
            "90  ---->  1.8685327\n",
            "91  ---->  1.7928675\n",
            "92  ---->  1.8348691\n",
            "93  ---->  1.9082649\n",
            "94  ---->  1.8589653\n",
            "95  ---->  1.741021\n",
            "96  ---->  1.9979597\n",
            "97  ---->  1.8511192\n",
            "98  ---->  1.9071623\n",
            "99  ---->  1.8603016\n"
          ]
        }
      ],
      "id": "ePkAM_o9jsqc"
    },
    {
      "cell_type": "code",
      "source": [
        "# gmm_samples = tf.cast(target_dist.sample(100000), tf.float32)"
      ],
      "metadata": {
        "id": "nZ19QftkquBP"
      },
      "execution_count": null,
      "outputs": [],
      "id": "nZ19QftkquBP"
    },
    {
      "cell_type": "code",
      "source": [
        "# from tensorflow.python.ops.numpy_ops import np_config\n",
        "# np_config.enable_numpy_behavior()"
      ],
      "metadata": {
        "id": "6T_q0OFUr3AL"
      },
      "execution_count": null,
      "outputs": [],
      "id": "6T_q0OFUr3AL"
    },
    {
      "cell_type": "markdown",
      "source": [
        "## **Observations - In training of RNVP flow**\n",
        "Problems Faced and how I tried to solve them?\n",
        "1. learning stopped after 600 batches. So I tried to reduce the learning rate to tackle this, as the lr = 0.001 might be too large to go deep into the valley and hence the loss was fluctuating between the two values."
      ],
      "metadata": {
        "id": "wT3NjW9Cjlbh"
      },
      "id": "wT3NjW9Cjlbh"
    },
    {
      "cell_type": "markdown",
      "source": [
        "# **Q1. (a). part 1**"
      ],
      "metadata": {
        "id": "6w5KXtThJlor"
      },
      "id": "6w5KXtThJlor"
    },
    {
      "cell_type": "code",
      "source": [
        "test_samples_u = base_dist.sample(100000) #sampling 'u' from Pu(U)\n",
        "test_samples_x, _ = RNVP_obj.chain_forward(test_samples_u) # apply the transformation T on each of the sample 'u' which is samples from Pu(U), so that they are converted to the samples of Px(X)\n",
        "# plot_samples_2d(test_samples_x)"
      ],
      "metadata": {
        "id": "worBjyua9YC5"
      },
      "execution_count": null,
      "outputs": [],
      "id": "worBjyua9YC5"
    },
    {
      "cell_type": "code",
      "source": [
        "def plot_samples_2d(data, filename=None):\n",
        "    'data is SxD'\n",
        "    plt.figure(figsize=(5,5))\n",
        "    plt.scatter(data[:, 0], data[:, 1]) \n",
        "    if filename:\n",
        "        plt.savefig('./%s'%(filename) + \".png\", format=\"png\")"
      ],
      "metadata": {
        "id": "0HKtJF9qJZfm"
      },
      "execution_count": null,
      "outputs": [],
      "id": "0HKtJF9qJZfm"
    },
    {
      "cell_type": "code",
      "source": [
        "plot_samples_2d(test_samples_x)"
      ],
      "metadata": {
        "colab": {
          "base_uri": "https://localhost:8080/",
          "height": 320
        },
        "id": "dpUtalMUJb1N",
        "outputId": "e228cf85-dfe8-4e91-e6ce-c2246d974ee6"
      },
      "execution_count": null,
      "outputs": [
        {
          "output_type": "display_data",
          "data": {
            "image/png": "[encoded data removed]",
            "text/plain": [
              "<Figure size 360x360 with 1 Axes>"
            ]
          },
          "metadata": {
            "needs_background": "light"
          }
        }
      ],
      "id": "dpUtalMUJb1N"
    },
    {
      "cell_type": "code",
      "source": [
        "# target_dist = bivariate_gmmSampler\n",
        "# base_dist = "
      ],
      "metadata": {
        "id": "CT8_jnSyKjVW"
      },
      "execution_count": null,
      "outputs": [],
      "id": "CT8_jnSyKjVW"
    },
    {
      "cell_type": "code",
      "source": [
        "target_direct_samples = target_dist.sample(100000)\n",
        "plot_samples_2d(target_direct_samples)"
      ],
      "metadata": {
        "colab": {
          "base_uri": "https://localhost:8080/",
          "height": 320
        },
        "id": "REyfv_ysKll8",
        "outputId": "a488d615-0d66-437e-def7-f60dc87af3c6"
      },
      "execution_count": null,
      "outputs": [
        {
          "output_type": "display_data",
          "data": {
            "image/png": "[encoded data removed]",
            "text/plain": [
              "<Figure size 360x360 with 1 Axes>"
            ]
          },
          "metadata": {
            "needs_background": "light"
          }
        }
      ],
      "id": "REyfv_ysKll8"
    },
    {
      "cell_type": "markdown",
      "source": [
        "## **Observations:**\n",
        "1. RNVP with 4 layers/steps, is sufficiently good to model a GMM with 5 components\n",
        "2. increasing the number of layers in RNVP flow, didn't have appreciable change in these plots\n",
        "2. The plots of the target and model distribution are almost the same for most of the random GMMs that I created.\n",
        "3. One thing that I noticed while personally, while running the training loop and RNVP for different GMMs is that when there are far away components of GMM separted, and each of them has very smalll variance, then the RNVP flow is not much accurate. Hence it is more accurate when the variance of each component if sufficiently large."
      ],
      "metadata": {
        "id": "vCAtFQ2wXQxG"
      },
      "id": "vCAtFQ2wXQxG"
    },
    {
      "cell_type": "markdown",
      "source": [
        "# **Q1. (a) part 2**"
      ],
      "metadata": {
        "id": "9byxqJIZLo9_"
      },
      "id": "9byxqJIZLo9_"
    },
    {
      "cell_type": "markdown",
      "source": [
        "first sample from the target dist"
      ],
      "metadata": {
        "id": "Kk7zeyQ0L2c_"
      },
      "id": "Kk7zeyQ0L2c_"
    },
    {
      "cell_type": "markdown",
      "source": [
        "here the target distribution is easy to sample from, hence we are using the samples directly"
      ],
      "metadata": {
        "id": "RewUJMDinxlY"
      },
      "id": "RewUJMDinxlY"
    },
    {
      "cell_type": "markdown",
      "source": [
        ""
      ],
      "metadata": {
        "id": "jsSoFcw7pvFA"
      },
      "id": "jsSoFcw7pvFA"
    },
    {
      "cell_type": "code",
      "source": [
        "target_dist_direct_samples = target_dist.sample(10000)"
      ],
      "metadata": {
        "id": "kta0gAc-LtLZ"
      },
      "execution_count": null,
      "outputs": [],
      "id": "kta0gAc-LtLZ"
    },
    {
      "cell_type": "code",
      "source": [
        "# print(target_dist_direct_samples.shape)"
      ],
      "metadata": {
        "id": "oRjp77NfPdBx"
      },
      "execution_count": null,
      "outputs": [],
      "id": "oRjp77NfPdBx"
    },
    {
      "cell_type": "markdown",
      "source": [
        "then find the corresponding u for each x, that you sampled above using inverse trasnformation u = T^-1(x)"
      ],
      "metadata": {
        "id": "UXl2UwPeMHQ-"
      },
      "id": "UXl2UwPeMHQ-"
    },
    {
      "cell_type": "code",
      "source": [
        "u_samples, log_det_inverse_j = RNVP_obj.chain_inverse(target_dist_direct_samples)"
      ],
      "metadata": {
        "id": "u727Hc7bNJDd"
      },
      "execution_count": null,
      "outputs": [],
      "id": "u727Hc7bNJDd"
    },
    {
      "cell_type": "code",
      "source": [
        "# print(u_samples.shape, log_det_inverse_j.shape)"
      ],
      "metadata": {
        "id": "VPoVh43fPhtA"
      },
      "execution_count": 21,
      "outputs": [],
      "id": "VPoVh43fPhtA"
    },
    {
      "cell_type": "markdown",
      "source": [
        "now use Px(x) = Pu(U) * e^(log_det_inverse_j) to calculate Px(x) and then plot them. \n",
        "These are the probabillites of x that we get from the trained model"
      ],
      "metadata": {
        "id": "7bD0Y0N-Ot6S"
      },
      "id": "7bD0Y0N-Ot6S"
    },
    {
      "cell_type": "code",
      "source": [
        "P_u_samples_prob = base_dist.prob(u_samples)"
      ],
      "metadata": {
        "id": "uGH4QPlEPsl8"
      },
      "execution_count": null,
      "outputs": [],
      "id": "uGH4QPlEPsl8"
    },
    {
      "cell_type": "code",
      "source": [
        "# print(P_u_samples_prob.shape)"
      ],
      "metadata": {
        "id": "mtxcUVSePzo-"
      },
      "execution_count": 20,
      "outputs": [],
      "id": "mtxcUVSePzo-"
    },
    {
      "cell_type": "code",
      "source": [
        "inverse_det_jacob = np.squeeze(np.exp(log_det_inverse_j))"
      ],
      "metadata": {
        "id": "38nJXMrDP-uZ"
      },
      "execution_count": null,
      "outputs": [],
      "id": "38nJXMrDP-uZ"
    },
    {
      "cell_type": "code",
      "source": [
        "# print(inverse_det_jacob.shape)"
      ],
      "metadata": {
        "id": "0z6tGg5iQFTa"
      },
      "execution_count": 19,
      "outputs": [],
      "id": "0z6tGg5iQFTa"
    },
    {
      "cell_type": "code",
      "source": [
        "model_probs_indirect = np.multiply(P_u_samples_prob, inverse_det_jacob)"
      ],
      "metadata": {
        "id": "CQhme0nJPAsE"
      },
      "execution_count": null,
      "outputs": [],
      "id": "CQhme0nJPAsE"
    },
    {
      "cell_type": "code",
      "source": [
        "# print(model_probs_indirect.shape)"
      ],
      "metadata": {
        "id": "UMxby9FgPWDq"
      },
      "execution_count": 18,
      "outputs": [],
      "id": "UMxby9FgPWDq"
    },
    {
      "cell_type": "code",
      "source": [
        "target_dist_probs_direct = target_dist.prob(target_dist_direct_samples)"
      ],
      "metadata": {
        "id": "aZrZ4uzUQnsX"
      },
      "execution_count": null,
      "outputs": [],
      "id": "aZrZ4uzUQnsX"
    },
    {
      "cell_type": "markdown",
      "source": [
        "taking the absolute diff between the probability values"
      ],
      "metadata": {
        "id": "4q4mlx7lqBPx"
      },
      "id": "4q4mlx7lqBPx"
    },
    {
      "cell_type": "code",
      "source": [
        "diff_probs = np.abs(target_dist_probs_direct - model_probs_indirect)\n",
        "print(diff_probs.shape)"
      ],
      "metadata": {
        "colab": {
          "base_uri": "https://localhost:8080/"
        },
        "id": "tLuRKBuARFjb",
        "outputId": "5b820f99-38cb-41fe-b3d7-365816f320d7"
      },
      "execution_count": null,
      "outputs": [
        {
          "output_type": "stream",
          "name": "stdout",
          "text": [
            "(10000,)\n"
          ]
        }
      ],
      "id": "tLuRKBuARFjb"
    },
    {
      "cell_type": "code",
      "source": [
        "plt.hist(diff_probs, bins= 50, density = True)\n",
        "plt.show()"
      ],
      "metadata": {
        "colab": {
          "base_uri": "https://localhost:8080/",
          "height": 265
        },
        "id": "NEoqH5g8RXb-",
        "outputId": "51265b72-01cf-446f-b9f0-2f862f157031"
      },
      "execution_count": null,
      "outputs": [
        {
          "output_type": "display_data",
          "data": {
            "image/png": "[encoded data removed]",
            "text/plain": [
              "<Figure size 432x288 with 1 Axes>"
            ]
          },
          "metadata": {
            "needs_background": "light"
          }
        }
      ],
      "id": "NEoqH5g8RXb-"
    },
    {
      "cell_type": "markdown",
      "source": [
        "## **Observations:**\n",
        "1. As there is a sharp peak at the value 0.00, it indicates that the model and the target probabilies match to a great extent, hence indicating that the RNVP flow with 4 layers was able to model the target distribution fairly well.\n",
        "2. Also most of the peaks and the points lie near 0.00, again reflecting the high accuracy of RNVP model that I trained.\n",
        "3. Maximum points lie within 0.05, indicating that most of the probability values from the model are very close to their actual value from the target distribution.\n"
      ],
      "metadata": {
        "id": "e7kksnDIXoKL"
      },
      "id": "e7kksnDIXoKL"
    },
    {
      "cell_type": "markdown",
      "source": [
        "# **Question 1: (b) ---> Done using Planar Flow - Done using P\\*(X) and not samples of P\\*(X)**"
      ],
      "metadata": {
        "id": "UBAB4v_ilSvG"
      },
      "id": "UBAB4v_ilSvG"
    },
    {
      "cell_type": "markdown",
      "source": [
        "can we declare w, b, c as tf.tensors? -- no, because then we wont' be able to change them by propagating gradients.\n",
        "\n",
        "So we declare them as tf.Variable"
      ],
      "metadata": {
        "id": "xcnkZbYSqeWn"
      },
      "id": "xcnkZbYSqeWn"
    },
    {
      "cell_type": "code",
      "source": [
        "def check_nan(x):\n",
        "  mat = tf.math.is_nan(x)\n",
        "  return tf.math.count_nonzero(mat)"
      ],
      "metadata": {
        "id": "zUUJ4922zNmw"
      },
      "execution_count": null,
      "outputs": [],
      "id": "zUUJ4922zNmw"
    },
    {
      "cell_type": "code",
      "source": [
        "# dimension of input -- u\n",
        "Dim = 2"
      ],
      "metadata": {
        "id": "GPRWttcisx1c"
      },
      "execution_count": null,
      "outputs": [],
      "id": "GPRWttcisx1c"
    },
    {
      "cell_type": "code",
      "source": [
        "w = tf.Variable(initial_value = tf.random.uniform(shape = [Dim, 1], dtype = tf.float32), trainable = True, name = 'w', dtype = tf.float32)\n",
        "b = tf.Variable(initial_value = tf.random.uniform(shape = [1], dtype = tf.float32), trainable = True, name = 'b', dtype = tf.float32)\n",
        "c = tf.Variable(initial_value = tf.random.uniform(shape = [Dim, 1], dtype = tf.float32), trainable = True, name = 'c', dtype = tf.float32)"
      ],
      "metadata": {
        "id": "qepfXJduRK49"
      },
      "execution_count": null,
      "outputs": [],
      "id": "qepfXJduRK49"
    },
    {
      "cell_type": "code",
      "source": [
        "def forward_pass(u, w, b, c):\n",
        "  #u is a vector here\n",
        "  x = tf.add(u, tf.multiply(c, tf.math.tanh(tf.add(tf.linalg.matmul(w, u, transpose_a = True), b) )))\n",
        "  return x"
      ],
      "metadata": {
        "id": "-C_VNhrIlVFb"
      },
      "execution_count": null,
      "outputs": [],
      "id": "-C_VNhrIlVFb"
    },
    {
      "cell_type": "code",
      "source": [
        "# dum_u = tf.random.uniform(shape = [Dim, 1])"
      ],
      "metadata": {
        "id": "OLPIwJiYvAL9"
      },
      "execution_count": null,
      "outputs": [],
      "id": "OLPIwJiYvAL9"
    },
    {
      "cell_type": "code",
      "source": [
        "# print(dum_u)"
      ],
      "metadata": {
        "colab": {
          "base_uri": "https://localhost:8080/"
        },
        "id": "SldHVN93vO24",
        "outputId": "35eed008-4e68-4085-acf2-6a070b5fa683"
      },
      "execution_count": null,
      "outputs": [
        {
          "output_type": "stream",
          "name": "stdout",
          "text": [
            "tf.Tensor(\n",
            "[[0.4961251 ]\n",
            " [0.27957606]], shape=(2, 1), dtype=float32)\n"
          ]
        }
      ],
      "id": "SldHVN93vO24"
    },
    {
      "cell_type": "code",
      "source": [
        "# x = forward_pass(dum_u, w, b, c)\n",
        "# print(x)"
      ],
      "metadata": {
        "colab": {
          "base_uri": "https://localhost:8080/"
        },
        "id": "9-VjV_RLvQKQ",
        "outputId": "91f919e8-7984-4208-8ad7-233efbad1f4e"
      },
      "execution_count": null,
      "outputs": [
        {
          "output_type": "stream",
          "name": "stdout",
          "text": [
            "tf.Tensor(\n",
            "[[0.9921765]\n",
            " [0.6509418]], shape=(2, 1), dtype=float32)\n"
          ]
        }
      ],
      "id": "9-VjV_RLvQKQ"
    },
    {
      "cell_type": "markdown",
      "source": [
        "as math.abs() is not differentiable, then we can't use it here. so how to take care of this problem"
      ],
      "metadata": {
        "id": "ds6nn-bU0z7J"
      },
      "id": "ds6nn-bU0z7J"
    },
    {
      "cell_type": "markdown",
      "source": [
        "how to ensure that det_jacob is positive"
      ],
      "metadata": {
        "id": "1DufE9192B0-"
      },
      "id": "1DufE9192B0-"
    },
    {
      "cell_type": "code",
      "source": [
        "def forward_det_jacob(u, w, b, c):\n",
        "  h = tf.math.tanh(tf.add(tf.linalg.matmul(w, u, transpose_a = True), b) + 0.0000001) + 0.000001\n",
        "  \n",
        "  h_dash = tf.subtract(1.0, tf.multiply(h, h)) + 0.00000001\n",
        "  \n",
        "  det_jacob = tf.abs(tf.add(1.0, tf.multiply(h_dash, tf.matmul(c, w, transpose_a = True))))#tf.math.abs(tf.add(1, tf.multiply(h_dash, tf.matmul(c, w, transpose_a = True))))\n",
        "  return det_jacob"
      ],
      "metadata": {
        "id": "JuHWTD1rvbAi"
      },
      "execution_count": null,
      "outputs": [],
      "id": "JuHWTD1rvbAi"
    },
    {
      "cell_type": "code",
      "source": [
        "# det_jacob = forward_det_jacob(dum_u, w, b, c)\n",
        "# print(det_jacob)"
      ],
      "metadata": {
        "colab": {
          "base_uri": "https://localhost:8080/"
        },
        "id": "40tcHkw53zSC",
        "outputId": "cc27b3f6-a09b-43b8-c923-5f4543a02067"
      },
      "execution_count": null,
      "outputs": [
        {
          "output_type": "stream",
          "name": "stdout",
          "text": [
            "tf.Tensor([[1.8856192]], shape=(1, 1), dtype=float32)\n"
          ]
        }
      ],
      "id": "40tcHkw53zSC"
    },
    {
      "cell_type": "code",
      "source": [
        "def planar_flow_loss(w, b, c, batch_size, base_dist, target_dist):\n",
        "  samples = base_dist.sample(batch_size)\n",
        "  \n",
        "  log_target_dist = target_dist.log_prob(samples)\n",
        "  \n",
        "  log_det = []\n",
        "  for sample in samples:\n",
        "    #print(sample.shape, w.shape)\n",
        "    sample = tf.expand_dims(sample, axis = 1)\n",
        "    log_det.append(tf.math.log(forward_det_jacob(sample, w, b, c) + 0.000001))\n",
        "  \n",
        "  log_p_u = base_dist.log_prob(samples)\n",
        "\n",
        "  loss = -1 * tf.reduce_mean(log_det + log_target_dist - log_p_u)\n",
        "\n",
        "  return loss"
      ],
      "metadata": {
        "id": "bQm7PJDP68Ky"
      },
      "execution_count": null,
      "outputs": [],
      "id": "bQm7PJDP68Ky"
    },
    {
      "cell_type": "code",
      "source": [
        "def one_step_planar_flow(w, b, c, base_dist, target_dist, optimizer, batch_size = 100, learning_rate = 0.001):\n",
        "  with tf.GradientTape() as tape:\n",
        "    lossval = planar_flow_loss(w, b, c, batch_size, base_dist, target_dist)\n",
        "\n",
        "  gradients = tape.gradient(lossval, tape.watched_variables())\n",
        "  \n",
        "  found = False\n",
        "  for grad in gradients:\n",
        "      if(check_nan(grad).numpy() != 0):\n",
        "        found = True\n",
        "          \n",
        "  if(not found):\n",
        "    optimizer.apply_gradients(zip(gradients, tape.watched_variables()))\n",
        "  else: \n",
        "    return 0\n",
        "\n",
        "  print(lossval.numpy())\n",
        "  return 1"
      ],
      "metadata": {
        "id": "hpggTFBEF9MH"
      },
      "execution_count": null,
      "outputs": [],
      "id": "hpggTFBEF9MH"
    },
    {
      "cell_type": "code",
      "source": [
        "def train_planar_flow(n_iter = 1000):\n",
        "  optimizer = optimizers.Adam(learning_rate = 0.001)\n",
        "  for _ in range(n_iter):\n",
        "    print(_)\n",
        "    val = one_step_planar_flow(w, b, c, bivariate_normal, bivariate_gmmSampler, optimizer)\n",
        "    if(val == 0):\n",
        "      print(\"Nan found\")\n",
        "      break"
      ],
      "metadata": {
        "id": "vleAJR7rT49O"
      },
      "execution_count": null,
      "outputs": [],
      "id": "vleAJR7rT49O"
    },
    {
      "cell_type": "code",
      "source": [
        "train_planar_flow()"
      ],
      "metadata": {
        "colab": {
          "base_uri": "https://localhost:8080/"
        },
        "id": "7tjI3DIWWvRI",
        "outputId": "014cf312-1e9b-4a04-8b99-d894b20b2fdb"
      },
      "execution_count": null,
      "outputs": [
        {
          "output_type": "stream",
          "name": "stdout",
          "text": [
            "0\n",
            "3.679518\n",
            "1\n",
            "3.9484437\n",
            "2\n",
            "3.719111\n",
            "3\n",
            "3.75935\n",
            "4\n",
            "3.528953\n",
            "5\n",
            "3.8867798\n",
            "6\n",
            "3.652553\n",
            "7\n",
            "3.8982618\n",
            "8\n",
            "3.6127899\n",
            "9\n",
            "3.843528\n",
            "10\n",
            "3.5806844\n",
            "11\n",
            "3.6322587\n",
            "12\n",
            "3.7388544\n",
            "13\n",
            "3.7176907\n",
            "14\n",
            "3.865661\n",
            "15\n",
            "3.8302894\n",
            "16\n",
            "3.8075812\n",
            "17\n",
            "3.7086039\n",
            "18\n",
            "3.7131667\n",
            "19\n",
            "3.813359\n",
            "20\n",
            "3.7498794\n",
            "21\n",
            "3.4749923\n",
            "22\n",
            "3.6938972\n",
            "23\n",
            "3.900779\n",
            "24\n",
            "3.7791708\n",
            "25\n",
            "3.6640835\n",
            "26\n",
            "3.5443294\n",
            "27\n",
            "3.4163477\n",
            "28\n",
            "3.7715688\n",
            "29\n",
            "3.6730895\n",
            "30\n",
            "3.8851454\n",
            "31\n",
            "3.5447938\n",
            "32\n",
            "3.4473114\n",
            "33\n",
            "3.6387718\n",
            "34\n",
            "3.6175272\n",
            "35\n",
            "3.6894\n",
            "36\n",
            "3.672353\n",
            "37\n",
            "3.4231148\n",
            "38\n",
            "3.4582934\n",
            "39\n",
            "3.634896\n",
            "40\n",
            "3.7443516\n",
            "41\n",
            "3.8510492\n",
            "42\n",
            "3.5056195\n",
            "43\n",
            "3.873704\n",
            "44\n",
            "3.5862427\n",
            "45\n",
            "3.5662477\n",
            "46\n",
            "3.730229\n",
            "47\n",
            "3.7314453\n",
            "48\n",
            "3.5148883\n",
            "49\n",
            "3.5562406\n",
            "50\n",
            "3.5637484\n",
            "51\n",
            "3.5580602\n",
            "52\n",
            "3.526634\n",
            "53\n",
            "3.4756134\n",
            "54\n",
            "3.7846923\n",
            "55\n",
            "3.6348777\n",
            "56\n",
            "3.7927668\n",
            "57\n",
            "3.5647087\n",
            "58\n",
            "3.7750258\n",
            "59\n",
            "3.5427122\n",
            "60\n",
            "3.696093\n",
            "61\n",
            "3.5609715\n",
            "62\n",
            "3.553332\n",
            "63\n",
            "3.7830806\n",
            "64\n",
            "3.4234567\n",
            "65\n",
            "3.4153152\n",
            "66\n",
            "3.508072\n",
            "67\n",
            "3.6102695\n",
            "68\n",
            "3.5338032\n",
            "69\n",
            "3.5652149\n",
            "70\n",
            "3.6682203\n",
            "71\n",
            "3.432744\n",
            "72\n",
            "3.5236578\n",
            "73\n",
            "3.5707462\n",
            "74\n",
            "3.3435445\n",
            "75\n",
            "3.518693\n",
            "76\n",
            "3.7269168\n",
            "77\n",
            "3.5186214\n",
            "78\n",
            "3.4053047\n",
            "79\n",
            "3.7373157\n",
            "80\n",
            "3.5640976\n",
            "81\n",
            "3.523486\n",
            "82\n",
            "3.4612722\n",
            "83\n",
            "3.2287445\n",
            "84\n",
            "3.4383402\n",
            "85\n",
            "3.356867\n",
            "86\n",
            "3.5979433\n",
            "87\n",
            "3.4845808\n",
            "88\n",
            "3.51402\n",
            "89\n",
            "3.5324054\n",
            "90\n",
            "3.4270558\n",
            "91\n",
            "3.6063325\n",
            "92\n",
            "3.5349102\n",
            "93\n",
            "3.3440921\n",
            "94\n",
            "3.7030358\n",
            "95\n",
            "3.4347246\n",
            "96\n",
            "3.4021468\n",
            "97\n",
            "3.298428\n",
            "98\n",
            "3.3893743\n",
            "99\n",
            "3.309096\n",
            "100\n",
            "3.3419034\n",
            "101\n",
            "3.4371095\n",
            "102\n",
            "3.4581711\n",
            "103\n",
            "3.4625368\n",
            "104\n",
            "3.4968848\n",
            "105\n",
            "3.3715165\n",
            "106\n",
            "3.580389\n",
            "107\n",
            "3.6262054\n",
            "108\n",
            "3.2633464\n",
            "109\n",
            "3.264353\n",
            "110\n",
            "3.3568723\n",
            "111\n",
            "3.318024\n",
            "112\n",
            "3.324884\n",
            "113\n",
            "3.3452032\n",
            "114\n",
            "3.1427355\n",
            "115\n",
            "3.588161\n",
            "116\n",
            "3.3580015\n",
            "117\n",
            "3.2163727\n",
            "118\n",
            "3.4310918\n",
            "119\n",
            "3.2124825\n",
            "120\n",
            "3.5676367\n",
            "121\n",
            "3.39966\n",
            "122\n",
            "3.4082594\n",
            "123\n",
            "3.3517852\n",
            "124\n",
            "3.4458637\n",
            "125\n",
            "3.2575822\n",
            "126\n",
            "3.1576269\n",
            "127\n",
            "3.278136\n",
            "128\n",
            "3.5081778\n",
            "129\n",
            "3.398528\n",
            "130\n",
            "3.4324067\n",
            "131\n",
            "3.0426254\n",
            "132\n",
            "3.445093\n",
            "133\n",
            "3.345684\n",
            "134\n",
            "3.365692\n",
            "135\n",
            "3.4967155\n",
            "136\n",
            "3.0675464\n",
            "137\n",
            "3.154801\n",
            "138\n",
            "3.0970178\n",
            "139\n",
            "3.3775823\n",
            "140\n",
            "3.3788004\n",
            "141\n",
            "3.2516024\n",
            "142\n",
            "3.0133305\n",
            "143\n",
            "3.183438\n",
            "144\n",
            "3.1728656\n",
            "145\n",
            "3.2544472\n",
            "146\n",
            "3.344411\n",
            "147\n",
            "3.2760832\n",
            "148\n",
            "3.3251195\n",
            "149\n",
            "3.1073003\n",
            "150\n",
            "3.435181\n",
            "151\n",
            "3.2537093\n",
            "152\n",
            "3.325889\n",
            "153\n",
            "3.1402853\n",
            "154\n",
            "3.3111722\n",
            "155\n",
            "3.2625682\n",
            "156\n",
            "3.2743251\n",
            "157\n",
            "3.1449647\n",
            "158\n",
            "3.2008731\n",
            "159\n",
            "3.4341345\n",
            "160\n",
            "3.2009387\n",
            "161\n",
            "3.1480103\n",
            "162\n",
            "3.172262\n",
            "163\n",
            "3.3479617\n",
            "164\n",
            "3.187703\n",
            "165\n",
            "3.0728254\n",
            "166\n",
            "3.2728953\n",
            "167\n",
            "3.345065\n",
            "168\n",
            "3.235438\n",
            "169\n",
            "3.2011533\n",
            "170\n",
            "3.193923\n",
            "171\n",
            "3.2202039\n",
            "172\n",
            "3.2512348\n",
            "173\n",
            "3.1760495\n",
            "174\n",
            "3.082774\n",
            "175\n",
            "3.1361382\n",
            "176\n",
            "2.9744563\n",
            "177\n",
            "3.3519547\n",
            "178\n",
            "3.2568333\n",
            "179\n",
            "3.4090555\n",
            "180\n",
            "3.1744823\n",
            "181\n",
            "3.1654966\n",
            "182\n",
            "3.291472\n",
            "183\n",
            "Nan found\n"
          ]
        }
      ],
      "id": "7tjI3DIWWvRI"
    },
    {
      "cell_type": "markdown",
      "source": [
        "## **Observations and Difficulties**\n",
        "1. While implementing the flow, I didn't get as to how I should ensure that determinant of jacobian is positive -- Maybe that's the reason why my model is not training well.\n",
        "2. I can do tf.abs(det_jacob) but that would make this whole thing non-differentiable. Still I did this while implementing.\n",
        "3. Losses are not converging during the training.\n",
        "4. Inverse mapping cannot be obtained for this kind of flow, hence Q1(a) can't be implemented using this flow.\n"
      ],
      "metadata": {
        "id": "3YWDhasxY0hM"
      },
      "id": "3YWDhasxY0hM"
    },
    {
      "cell_type": "markdown",
      "source": [
        "# **Q1 (b) part 1**"
      ],
      "metadata": {
        "id": "OXPJULTWRpi4"
      },
      "id": "OXPJULTWRpi4"
    },
    {
      "cell_type": "code",
      "source": [
        "# print(w, b, c)"
      ],
      "metadata": {
        "id": "j7oAvFCQgPoW"
      },
      "execution_count": null,
      "outputs": [],
      "id": "j7oAvFCQgPoW"
    },
    {
      "cell_type": "code",
      "source": [
        "data = []\n",
        "\n",
        "new_samples = bivariate_normal.sample(1000)\n",
        "for sample in new_samples:\n",
        "  sample = tf.expand_dims(sample, 1)\n",
        "  data.append(forward_pass(sample, w, b, c))"
      ],
      "metadata": {
        "id": "7fmP0FpNgTPJ"
      },
      "execution_count": null,
      "outputs": [],
      "id": "7fmP0FpNgTPJ"
    },
    {
      "cell_type": "code",
      "source": [
        "data = np.asarray(data)"
      ],
      "metadata": {
        "id": "US_skmxy4hVN"
      },
      "execution_count": null,
      "outputs": [],
      "id": "US_skmxy4hVN"
    },
    {
      "cell_type": "code",
      "source": [
        "# print(data.shape)"
      ],
      "metadata": {
        "id": "0gwQlS0ohnSM"
      },
      "execution_count": 17,
      "outputs": [],
      "id": "0gwQlS0ohnSM"
    },
    {
      "cell_type": "code",
      "source": [
        "data = tf.squeeze(data)"
      ],
      "metadata": {
        "id": "PMtmSeq8hpac"
      },
      "execution_count": null,
      "outputs": [],
      "id": "PMtmSeq8hpac"
    },
    {
      "cell_type": "code",
      "source": [
        "# print(data.shape)"
      ],
      "metadata": {
        "id": "dN4McS-Wh1-s"
      },
      "execution_count": 16,
      "outputs": [],
      "id": "dN4McS-Wh1-s"
    },
    {
      "cell_type": "code",
      "source": [
        "def plot_samples_2d(data, filename=None):\n",
        "    'data is SxD'\n",
        "    plt.figure(figsize=(5,5))\n",
        "    plt.scatter(data[:, 0], data[:, 1]) \n",
        "    if filename:\n",
        "        plt.savefig('./%s'%(filename) + \".png\", format=\"png\")"
      ],
      "metadata": {
        "id": "fqLDkJ49auvC"
      },
      "execution_count": null,
      "outputs": [],
      "id": "fqLDkJ49auvC"
    },
    {
      "cell_type": "code",
      "source": [
        "plot_samples_2d(data)"
      ],
      "metadata": {
        "colab": {
          "base_uri": "https://localhost:8080/",
          "height": 320
        },
        "id": "IoI8_Iech3o1",
        "outputId": "442ceeda-f1c9-4693-dd09-1817f0339eb7"
      },
      "execution_count": null,
      "outputs": [
        {
          "output_type": "display_data",
          "data": {
            "image/png": "[encoded data removed]",
            "text/plain": [
              "<Figure size 360x360 with 1 Axes>"
            ]
          },
          "metadata": {
            "needs_background": "light"
          }
        }
      ],
      "id": "IoI8_Iech3o1"
    },
    {
      "cell_type": "markdown",
      "source": [
        "Observations: \n",
        "1. The expressibility of Planar Flow is very less as compared to RNVP flow.\n",
        "2. Also as only one layer of Planar Flow is used, whereas in case of RNVP flow multiple layers were used, which led to more expressibility of RNVP flows."
      ],
      "metadata": {
        "id": "cSMDgHp61Kn6"
      },
      "id": "cSMDgHp61Kn6"
    },
    {
      "cell_type": "code",
      "source": [
        "target_direct_samples = bivariate_gmmSampler.sample(1000)\n",
        "plot_samples_2d(target_direct_samples)"
      ],
      "metadata": {
        "colab": {
          "base_uri": "https://localhost:8080/",
          "height": 320
        },
        "id": "t--Xf5lYrbqE",
        "outputId": "a17684c8-1f6b-4d9e-939b-6a0de52a9a22"
      },
      "execution_count": null,
      "outputs": [
        {
          "output_type": "display_data",
          "data": {
            "image/png": "[encoded data removed]",
            "text/plain": [
              "<Figure size 360x360 with 1 Axes>"
            ]
          },
          "metadata": {
            "needs_background": "light"
          }
        }
      ],
      "id": "t--Xf5lYrbqE"
    },
    {
      "cell_type": "markdown",
      "source": [
        "**Observations:**\n",
        "1. Planar flow is not sufficiently powerful enough to model complex distributions like GMM or \n",
        "2. Given only P_star which cannot be sampled from, the the model has not much data/power to given an accurate transformation.\n",
        "3. This also indicates that training a flow with the samples from target distribution is better than training it using the actuall pdf which is difficult to sample from."
      ],
      "metadata": {
        "id": "Ga_zDNRWZI57"
      },
      "id": "Ga_zDNRWZI57"
    },
    {
      "cell_type": "markdown",
      "source": [
        "# **Q1 (b) part 2**"
      ],
      "metadata": {
        "id": "1OlGNrOBrx9S"
      },
      "id": "1OlGNrOBrx9S"
    },
    {
      "cell_type": "markdown",
      "source": [
        "1. Here we don't have access to the samples of target_dist i.e. we can't use target_dist.sample(), as it is specified that target_dist is very difficult to sample from but it is easy to find target_dist.prob(x)\n",
        "2. So here we will sample u ~ Pu(U) from the base_dist, and then apply the transformation x = T(u), to find the sample x.\n",
        "3. Then calculate target_dist.prob(x). This is equivalent to using ptarget.prob(x)\n",
        "4. Then use Px(x) = Pu(U) * det, to estimate the probabilities using the model. This is equivalent to using the trained model."
      ],
      "metadata": {
        "id": "JokEHh_3sJ5U"
      },
      "id": "JokEHh_3sJ5U"
    },
    {
      "cell_type": "code",
      "source": [
        "base_dist_samples = base_dist.sample(1000)"
      ],
      "metadata": {
        "id": "W5VIJDWxr2V5"
      },
      "execution_count": null,
      "outputs": [],
      "id": "W5VIJDWxr2V5"
    },
    {
      "cell_type": "code",
      "source": [
        "x = []\n",
        "\n",
        "for sample in base_dist_samples:\n",
        "  sample = tf.expand_dims(sample, 1)\n",
        "  x.append(forward_pass(sample, w, b, c))"
      ],
      "metadata": {
        "id": "cqcuevD5gPf8"
      },
      "execution_count": null,
      "outputs": [],
      "id": "cqcuevD5gPf8"
    },
    {
      "cell_type": "code",
      "source": [
        "x = np.squeeze(np.asarray(data))"
      ],
      "metadata": {
        "id": "FcPLJ8ghgPf8"
      },
      "execution_count": null,
      "outputs": [],
      "id": "FcPLJ8ghgPf8"
    },
    {
      "cell_type": "code",
      "source": [
        "# print(x.shape)"
      ],
      "metadata": {
        "id": "b4BP81OagPf8"
      },
      "execution_count": 15,
      "outputs": [],
      "id": "b4BP81OagPf8"
    },
    {
      "cell_type": "markdown",
      "source": [
        "Now we can find the probabilities using the two methods\n",
        "<br>\n",
        "Probabilitie using the ptarget.prob"
      ],
      "metadata": {
        "id": "5Mg9UrymhcZD"
      },
      "id": "5Mg9UrymhcZD"
    },
    {
      "cell_type": "code",
      "source": [
        "prob_using_ptarget = np.expand_dims(bivariate_gmmSampler.prob(x), 1)"
      ],
      "metadata": {
        "id": "C6yQmijkhjEr"
      },
      "execution_count": null,
      "outputs": [],
      "id": "C6yQmijkhjEr"
    },
    {
      "cell_type": "code",
      "source": [
        "# print(prob_using_ptarget)"
      ],
      "metadata": {
        "id": "EPUFkekttmO8"
      },
      "execution_count": null,
      "outputs": [],
      "id": "EPUFkekttmO8"
    },
    {
      "cell_type": "code",
      "source": [
        "# print(x)"
      ],
      "metadata": {
        "id": "Bjn7aegltXSm"
      },
      "execution_count": null,
      "outputs": [],
      "id": "Bjn7aegltXSm"
    },
    {
      "cell_type": "code",
      "source": [
        "bivariate_gmmSampler.prob(x[0])"
      ],
      "metadata": {
        "colab": {
          "base_uri": "https://localhost:8080/"
        },
        "id": "VWXVCa8ktCWo",
        "outputId": "5cd9cdf0-2f13-4830-acd5-d5b10cb509c8"
      },
      "execution_count": null,
      "outputs": [
        {
          "output_type": "execute_result",
          "data": {
            "text/plain": [
              "<tf.Tensor: shape=(), dtype=float32, numpy=0.04320634>"
            ]
          },
          "metadata": {},
          "execution_count": 157
        }
      ],
      "id": "VWXVCa8ktCWo"
    },
    {
      "cell_type": "markdown",
      "source": [
        "### Probabiliese using the model"
      ],
      "metadata": {
        "id": "BWaO9hYohuWH"
      },
      "id": "BWaO9hYohuWH"
    },
    {
      "cell_type": "code",
      "source": [
        "jacob_det = []\n",
        "\n",
        "for sample in base_dist_samples:\n",
        "  sample = tf.expand_dims(sample, 1)\n",
        "  #print(np.squeeze(forward_det_jacob(sample, w, b, c)).shape)\n",
        "  jacob_det.append(np.squeeze(forward_det_jacob(sample, w, b, c)))"
      ],
      "metadata": {
        "id": "yjl8CoHWjOde"
      },
      "execution_count": null,
      "outputs": [],
      "id": "yjl8CoHWjOde"
    },
    {
      "cell_type": "code",
      "source": [
        "jacob_det = np.squeeze(np.asarray(jacob_det))"
      ],
      "metadata": {
        "id": "Gq8McTqtjOde"
      },
      "execution_count": null,
      "outputs": [],
      "id": "Gq8McTqtjOde"
    },
    {
      "cell_type": "code",
      "source": [
        "# print(jacob_det.shape)"
      ],
      "metadata": {
        "id": "cecldOo8jOde"
      },
      "execution_count": 13,
      "outputs": [],
      "id": "cecldOo8jOde"
    },
    {
      "cell_type": "code",
      "source": [
        "model_probs = np.expand_dims(base_dist.prob(base_dist_samples), 1) * np.expand_dims(jacob_det, 1)"
      ],
      "metadata": {
        "id": "VAsu_DvuiVxg"
      },
      "execution_count": null,
      "outputs": [],
      "id": "VAsu_DvuiVxg"
    },
    {
      "cell_type": "code",
      "source": [
        "# print(model_probs.shape)"
      ],
      "metadata": {
        "id": "0BBOFnx7lWlI"
      },
      "execution_count": 14,
      "outputs": [],
      "id": "0BBOFnx7lWlI"
    },
    {
      "cell_type": "markdown",
      "source": [
        "### now finding the difference"
      ],
      "metadata": {
        "id": "wREb-CAknpLn"
      },
      "id": "wREb-CAknpLn"
    },
    {
      "cell_type": "code",
      "source": [
        "# print(model_probs)"
      ],
      "metadata": {
        "id": "-s6c3Nh8sq-l"
      },
      "execution_count": null,
      "outputs": [],
      "id": "-s6c3Nh8sq-l"
    },
    {
      "cell_type": "code",
      "source": [
        "# print(prob_using_ptarget)"
      ],
      "metadata": {
        "id": "REeZHDSQsyIr"
      },
      "execution_count": null,
      "outputs": [],
      "id": "REeZHDSQsyIr"
    },
    {
      "cell_type": "code",
      "source": [
        "prob_diff_q1_b = np.absolute(model_probs - prob_using_ptarget)"
      ],
      "metadata": {
        "id": "2Ge6zJ9mlbfE"
      },
      "execution_count": null,
      "outputs": [],
      "id": "2Ge6zJ9mlbfE"
    },
    {
      "cell_type": "code",
      "source": [
        "# indexes_to_include = np.logical_not(np.isnan(prob_diff_q1_b))"
      ],
      "metadata": {
        "id": "1w2ERJX2qtNU"
      },
      "execution_count": null,
      "outputs": [],
      "id": "1w2ERJX2qtNU"
    },
    {
      "cell_type": "code",
      "source": [
        "# prob_diff_q1_b = prob_diff_q1_b[indexes_to_include]\n",
        "# # prob_using_ptarget = prob_using_ptarget[indexes_to_include]"
      ],
      "metadata": {
        "id": "mnIfg_Sgpxeq"
      },
      "execution_count": null,
      "outputs": [],
      "id": "mnIfg_Sgpxeq"
    },
    {
      "cell_type": "code",
      "source": [
        "print(prob_diff_q1_b.shape)"
      ],
      "metadata": {
        "colab": {
          "base_uri": "https://localhost:8080/"
        },
        "id": "jyVTWkGVskkT",
        "outputId": "6464b961-1b80-4641-9026-60bc60a3df02"
      },
      "execution_count": null,
      "outputs": [
        {
          "output_type": "stream",
          "name": "stdout",
          "text": [
            "(1000, 1)\n"
          ]
        }
      ],
      "id": "jyVTWkGVskkT"
    },
    {
      "cell_type": "code",
      "source": [
        "plt.hist(prob_diff_q1_b, bins = 50, density = True)\n",
        "plt.show()"
      ],
      "metadata": {
        "colab": {
          "base_uri": "https://localhost:8080/",
          "height": 265
        },
        "id": "wyt0MLnPpIJS",
        "outputId": "6046d4aa-0703-42fe-97d5-0d437f7da6db"
      },
      "execution_count": null,
      "outputs": [
        {
          "output_type": "display_data",
          "data": {
            "image/png": "[encoded data removed]",
            "text/plain": [
              "<Figure size 432x288 with 1 Axes>"
            ]
          },
          "metadata": {
            "needs_background": "light"
          }
        }
      ],
      "id": "wyt0MLnPpIJS"
    },
    {
      "cell_type": "markdown",
      "source": [
        "**Observations**\n",
        "1. Here the max value on the x-axis is 0.4 which is fairly large in comparison to the max value on x-axis of Q1(a) part 2, which had max value of 0.03.\n",
        "2. Also very less of the points are clustered around 0.00, again indicating that the for most of the samples probability difference is large as compared to Q1(a) part 2. \n",
        "3. Comparing the plots from Q1a part 2 and q1b part 2, one can clearly infer that the model in Q1a is superior as the difference of probability values from the model and target distribution is less."
      ],
      "metadata": {
        "id": "2_2GzUMIaKXQ"
      },
      "id": "2_2GzUMIaKXQ"
    },
    {
      "cell_type": "markdown",
      "id": "adjustable-incentive",
      "metadata": {
        "id": "adjustable-incentive"
      },
      "source": [
        "# **YOUR OBSERVATIONS:**\n",
        "\n",
        "### Q1 a. Wrote below the plots\n",
        "Here in this part I have used RNVP flow, and as there was no Nan error, hence the training was complete and the flow gave very good results on most of the GMMs that I tried.\n",
        "Also the estimated probabilities and importance sampling this was fairly good that Q1(b)\n",
        "\n",
        "### Q1 b. Wrote below the plots\n",
        "1. Challenge 1: Nan gradients while training.\n",
        "2. Solution: reduced the learning rate\n",
        "\n",
        "### Q1 c. Didn't do\n"
      ]
    },
    {
      "cell_type": "markdown",
      "id": "surrounded-philippines",
      "metadata": {
        "id": "surrounded-philippines"
      },
      "source": [
        "# Q2: Importance Sampling\n",
        "Use the codes and models of Q1 to solve this problem\n",
        "1. Assume you do not have access to `ptarget.sample()` but only to `ptarget.prob()`. Estimate $E[x^2]$ using the NF models of Q1a and Q1b. Write your obervations in the markdown block below the plots. [5 marks]\n",
        "2. Evaluation: Now using the complete class `ptarget`, find $E[x^2]$ and compare it with the value computed in Q2.1. Write your obervations in the markdown block below the plots. [5 marks]"
      ]
    },
    {
      "cell_type": "markdown",
      "id": "spiritual-contents",
      "metadata": {
        "id": "spiritual-contents"
      },
      "source": [
        "## YOUR CODE:"
      ]
    },
    {
      "cell_type": "markdown",
      "source": [
        "## Q2. (1) Estimation of E[x^2] using target_dist.prob() only"
      ],
      "metadata": {
        "id": "k12FsqeP_Czw"
      },
      "id": "k12FsqeP_Czw"
    },
    {
      "cell_type": "markdown",
      "source": [
        "### **Explanation of the process**"
      ],
      "metadata": {
        "id": "jFxUiO5PKwzn"
      },
      "id": "jFxUiO5PKwzn"
    },
    {
      "cell_type": "markdown",
      "source": [
        "estimate = 1/n * Simga(f(xi) * (p(xi)/q(xi))"
      ],
      "metadata": {
        "id": "ErtJ3FZy86Wy"
      },
      "id": "ErtJ3FZy86Wy"
    },
    {
      "cell_type": "markdown",
      "source": [
        "1. let p(x) = target_dist, which is very hard to sample from, but p.prob(x) is easy to calc\n",
        "2. let q(x) = trained_model, which is easy to sample from and also very close to p(x) i.e. close to the target_dist\n",
        "<br>\n",
        "\n",
        "We can choose either of the trained models from Q1 (a) and Q1 (b) as our q(x).\n",
        "<br>\n",
        "\n",
        "3. For Q1. (b) To sample from q(x) we could just sample from Pu(U) and then apply the transformation x = T(u)\n",
        "\n",
        "3. now sample x ~ q(x), calc p.prob(x) and q.prob(x).\n",
        "<br>\n",
        "To calc q.prob(x) you would have to make the use of model and the relation Px(x) = Pu(U) * det()^-1 \n",
        "4. Also calc f(x) = x^2 for this x sampled from q(x).\n",
        "5. find the sum of f(x) * (p(x) / q(x)) over all these x's sampled from q(x).\n",
        "6. Take average"
      ],
      "metadata": {
        "id": "DFo0TJAAAYHA"
      },
      "id": "DFo0TJAAAYHA"
    },
    {
      "cell_type": "markdown",
      "source": [
        "### **Using the trained model from Q1.(a) to do Importance Sampling**"
      ],
      "metadata": {
        "id": "8Jwu68h434dF"
      },
      "id": "8Jwu68h434dF"
    },
    {
      "cell_type": "markdown",
      "source": [
        "sample from the base distribution"
      ],
      "metadata": {
        "id": "fZPgCoRW6_8u"
      },
      "id": "fZPgCoRW6_8u"
    },
    {
      "cell_type": "code",
      "source": [
        "x = target_dist.sample(10000)"
      ],
      "metadata": {
        "id": "KeWV3JKh3B-A"
      },
      "execution_count": null,
      "outputs": [],
      "id": "KeWV3JKh3B-A"
    },
    {
      "cell_type": "code",
      "source": [
        "p_probs = np.expand_dims(target_dist.prob(x), 1)\n",
        "print(p_probs.shape)"
      ],
      "metadata": {
        "colab": {
          "base_uri": "https://localhost:8080/"
        },
        "id": "9-qxYU48-hjT",
        "outputId": "7b7685c5-a74c-4ceb-ebf0-87900c822593"
      },
      "execution_count": null,
      "outputs": [
        {
          "output_type": "stream",
          "name": "stdout",
          "text": [
            "(10000, 1)\n"
          ]
        }
      ],
      "id": "9-qxYU48-hjT"
    },
    {
      "cell_type": "code",
      "source": [
        "u, log_det_jacob_inv_transf = RNVP_obj.chain_inverse(x)"
      ],
      "metadata": {
        "id": "2J_xJz7130-T"
      },
      "execution_count": null,
      "outputs": [],
      "id": "2J_xJz7130-T"
    },
    {
      "cell_type": "code",
      "source": [
        "# print(u.shape, log_det_jacob_inv_transf.shape)"
      ],
      "metadata": {
        "id": "P8uHi4uS4WFO"
      },
      "execution_count": 11,
      "outputs": [],
      "id": "P8uHi4uS4WFO"
    },
    {
      "cell_type": "code",
      "source": [
        "# print(base_dist.prob(u).shape)"
      ],
      "metadata": {
        "id": "NeifR9j9AaUP"
      },
      "execution_count": 12,
      "outputs": [],
      "id": "NeifR9j9AaUP"
    },
    {
      "cell_type": "code",
      "source": [
        "log_det_jacob_inv_transf"
      ],
      "metadata": {
        "colab": {
          "base_uri": "https://localhost:8080/"
        },
        "id": "U4Q773id7GBG",
        "outputId": "19336ea9-dff2-44eb-a9fd-ec0dbefd72db"
      },
      "execution_count": null,
      "outputs": [
        {
          "output_type": "execute_result",
          "data": {
            "text/plain": [
              "<tf.Tensor: shape=(10000, 1), dtype=float32, numpy=\n",
              "array([[ 1.6508317 ],\n",
              "       [ 1.9295774 ],\n",
              "       [ 1.8082101 ],\n",
              "       ...,\n",
              "       [-0.09262273],\n",
              "       [-1.2212701 ],\n",
              "       [ 1.2211505 ]], dtype=float32)>"
            ]
          },
          "metadata": {},
          "execution_count": 382
        }
      ],
      "id": "U4Q773id7GBG"
    },
    {
      "cell_type": "code",
      "source": [
        "q_probs = np.multiply(np.expand_dims(base_dist.prob(u), axis = 1), tf.math.exp(log_det_jacob_inv_transf))"
      ],
      "metadata": {
        "id": "LQiH1Ufx-3Yy"
      },
      "execution_count": null,
      "outputs": [],
      "id": "LQiH1Ufx-3Yy"
    },
    {
      "cell_type": "code",
      "source": [
        "print(q_probs)"
      ],
      "metadata": {
        "colab": {
          "base_uri": "https://localhost:8080/"
        },
        "id": "ox4mxltSAT0B",
        "outputId": "51e291c7-0430-4289-b79c-a54aecb688bf"
      },
      "execution_count": null,
      "outputs": [
        {
          "output_type": "stream",
          "name": "stdout",
          "text": [
            "[[0.45099363]\n",
            " [0.2815641 ]\n",
            " [0.5119082 ]\n",
            " ...\n",
            " [0.01717807]\n",
            " [0.01895076]\n",
            " [0.00496134]]\n"
          ]
        }
      ],
      "id": "ox4mxltSAT0B"
    },
    {
      "cell_type": "code",
      "source": [
        "ratio = np.divide(p_probs, q_probs)\n",
        "print(ratio.shape)"
      ],
      "metadata": {
        "colab": {
          "base_uri": "https://localhost:8080/"
        },
        "id": "7B_7TYt-AsO2",
        "outputId": "959acf37-eeba-42bd-d4e9-03a58a73f632"
      },
      "execution_count": null,
      "outputs": [
        {
          "output_type": "stream",
          "name": "stdout",
          "text": [
            "(10000, 1)\n"
          ]
        }
      ],
      "id": "7B_7TYt-AsO2"
    },
    {
      "cell_type": "code",
      "source": [
        "f_x = np.multiply(x, x)"
      ],
      "metadata": {
        "id": "txwXg5ABCbZR"
      },
      "execution_count": null,
      "outputs": [],
      "id": "txwXg5ABCbZR"
    },
    {
      "cell_type": "code",
      "source": [
        "# ratio = tf.clip_by_value(ratio, -100, 100)\n",
        "# print(ratio)"
      ],
      "metadata": {
        "id": "ogGFTjvNCwaL"
      },
      "execution_count": 10,
      "outputs": [],
      "id": "ogGFTjvNCwaL"
    },
    {
      "cell_type": "code",
      "source": [
        "# print((ratio * f_x).shape)"
      ],
      "metadata": {
        "id": "8DCQIJUIDp9Y"
      },
      "execution_count": 9,
      "outputs": [],
      "id": "8DCQIJUIDp9Y"
    },
    {
      "cell_type": "code",
      "source": [
        "# print(f_x)"
      ],
      "metadata": {
        "id": "hakd3MES6j9G"
      },
      "execution_count": 8,
      "outputs": [],
      "id": "hakd3MES6j9G"
    },
    {
      "cell_type": "code",
      "source": [
        "approx_1 = np.mean(np.hstack((ratio, ratio)) * f_x, 0)"
      ],
      "metadata": {
        "id": "08aq4w1hChfm"
      },
      "execution_count": null,
      "outputs": [],
      "id": "08aq4w1hChfm"
    },
    {
      "cell_type": "code",
      "source": [
        "print(approx_1)"
      ],
      "metadata": {
        "colab": {
          "base_uri": "https://localhost:8080/"
        },
        "id": "nmLIzw_oCnA8",
        "outputId": "26935d15-3356-454f-9848-564c41e7811f"
      },
      "execution_count": null,
      "outputs": [
        {
          "output_type": "stream",
          "name": "stdout",
          "text": [
            "[3.1438634 5.0335345]\n"
          ]
        }
      ],
      "id": "nmLIzw_oCnA8"
    },
    {
      "cell_type": "markdown",
      "source": [
        "#### **Observations for Q2 part 1 using Q1 (a)**\n",
        "\n",
        "**Reason for large values(sometimes of the order of 1000 times the value obtained from Q2.part 2) when estimating using importance sampling:** \n",
        "1. **Occurs When** - This error is pre-dominant for some certain kinds of distributions only.\n",
        "2. When teh GMM has components which have very less variance and are separated across a lot of space, then the value obtained by this method is very large.\n",
        "3. **Reason** - May there are way more outliers when were randomly sampling from the ptarget(this may happen when ptarget is too much concentrated in small regions, which the modelled distribution is not so much densely concentrated in small regions), which give very small values of q(x), hence inflating the value of the approximation.\n",
        "4. Also for distributions in which this error is not too much, yet the value obtained by this method will be somewhat large(even if by small margin) than the value obtained by Q2 part 2, because q(x) would lie mostly < 1, hence increasing the value of approximation."
      ],
      "metadata": {
        "id": "1nbtfGI8FZiH"
      },
      "id": "1nbtfGI8FZiH"
    },
    {
      "cell_type": "markdown",
      "source": [
        "1. here we can't directly sample from distribution as that is not allowed"
      ],
      "metadata": {
        "id": "-hcVUCvShfEc"
      },
      "id": "-hcVUCvShfEc"
    },
    {
      "cell_type": "code",
      "execution_count": null,
      "id": "specialized-accused",
      "metadata": {
        "id": "specialized-accused"
      },
      "outputs": [],
      "source": [
        ""
      ]
    },
    {
      "cell_type": "markdown",
      "source": [
        "### **Using the trained model from Q1. (b) to do Importance Sampling**"
      ],
      "metadata": {
        "id": "QGD4vd3jn_j0"
      },
      "id": "QGD4vd3jn_j0"
    },
    {
      "cell_type": "code",
      "source": [
        "base_samples = base_dist.sample(1000)\n",
        "\n",
        "x = []\n",
        "det_jacob_forward_transf = []\n",
        "\n",
        "for sample in base_samples:\n",
        "  x_ = forward_pass(np.expand_dims(sample, 1), w, b, c)\n",
        "  det_jacob_forward_transf_ = forward_det_jacob(np.expand_dims(sample,1 ), w, b, c)\n",
        "  #print(x_.shape)\n",
        "  x.append(x_)\n",
        "  det_jacob_forward_transf.append(det_jacob_forward_transf_)"
      ],
      "metadata": {
        "id": "CaJbcthVidE3"
      },
      "execution_count": null,
      "outputs": [],
      "id": "CaJbcthVidE3"
    },
    {
      "cell_type": "code",
      "source": [
        "# print(base_samples.shape)"
      ],
      "metadata": {
        "id": "u6ZBvdo5kghN"
      },
      "execution_count": 1,
      "outputs": [],
      "id": "u6ZBvdo5kghN"
    },
    {
      "cell_type": "code",
      "source": [
        "x = np.squeeze(np.asarray(x))\n",
        "det_jacob_forward_transf = np.expand_dims(np.squeeze(np.asarray(det_jacob_forward_transf)), 1)"
      ],
      "metadata": {
        "id": "kRnnl6DMjlUD"
      },
      "execution_count": null,
      "outputs": [],
      "id": "kRnnl6DMjlUD"
    },
    {
      "cell_type": "code",
      "source": [
        "# print(x.shape, det_jacob_forward_transf.shape)"
      ],
      "metadata": {
        "id": "_MZgMJuSjz6g"
      },
      "execution_count": 2,
      "outputs": [],
      "id": "_MZgMJuSjz6g"
    },
    {
      "cell_type": "code",
      "source": [
        "real_probs = target_dist.prob(x)"
      ],
      "metadata": {
        "id": "h_Zhq6onkKQg"
      },
      "execution_count": null,
      "outputs": [],
      "id": "h_Zhq6onkKQg"
    },
    {
      "cell_type": "code",
      "source": [
        "# print(real_probs.shape)"
      ],
      "metadata": {
        "id": "Ese8dUctnXJ1"
      },
      "execution_count": 3,
      "outputs": [],
      "id": "Ese8dUctnXJ1"
    },
    {
      "cell_type": "code",
      "source": [
        "estimated_prob = np.expand_dims(base_dist.prob(base_samples), 1) * np.power(det_jacob_forward_transf, -1)"
      ],
      "metadata": {
        "id": "0BPRPUykkRY3"
      },
      "execution_count": null,
      "outputs": [],
      "id": "0BPRPUykkRY3"
    },
    {
      "cell_type": "code",
      "source": [
        "# print(estimated_prob.shape)"
      ],
      "metadata": {
        "id": "UrMwU7Kmmlit"
      },
      "execution_count": 4,
      "outputs": [],
      "id": "UrMwU7Kmmlit"
    },
    {
      "cell_type": "code",
      "source": [
        "ratio = np.divide(np.expand_dims(real_probs, 1), estimated_prob)"
      ],
      "metadata": {
        "id": "3Bu0D8Iamo2V"
      },
      "execution_count": null,
      "outputs": [],
      "id": "3Bu0D8Iamo2V"
    },
    {
      "cell_type": "code",
      "source": [
        "f_x = np.multiply(x, x)"
      ],
      "metadata": {
        "id": "v-kAcHbWnLYp"
      },
      "execution_count": null,
      "outputs": [],
      "id": "v-kAcHbWnLYp"
    },
    {
      "cell_type": "code",
      "source": [
        "# print(f_x.shape)"
      ],
      "metadata": {
        "id": "a2IBF4e0nSYc"
      },
      "execution_count": 6,
      "outputs": [],
      "id": "a2IBF4e0nSYc"
    },
    {
      "cell_type": "code",
      "source": [
        "# # ratio = tf.clip_by_value(ratio, -100, 100)\n",
        "# print(ratio)"
      ],
      "metadata": {
        "id": "mL92bIulnLYq"
      },
      "execution_count": null,
      "outputs": [],
      "id": "mL92bIulnLYq"
    },
    {
      "cell_type": "code",
      "source": [
        "# print((ratio * f_x).shape)"
      ],
      "metadata": {
        "id": "-xTPsPyfnLYq"
      },
      "execution_count": 5,
      "outputs": [],
      "id": "-xTPsPyfnLYq"
    },
    {
      "cell_type": "code",
      "source": [
        "# print(f_x)"
      ],
      "metadata": {
        "id": "XdAMU1QrnLYr"
      },
      "execution_count": 7,
      "outputs": [],
      "id": "XdAMU1QrnLYr"
    },
    {
      "cell_type": "code",
      "source": [
        "approx_2 = np.mean(np.hstack((ratio, ratio)) * f_x, 0)"
      ],
      "metadata": {
        "id": "wau50xGLnLYr"
      },
      "execution_count": null,
      "outputs": [],
      "id": "wau50xGLnLYr"
    },
    {
      "cell_type": "code",
      "source": [
        "print(approx_2)"
      ],
      "metadata": {
        "colab": {
          "base_uri": "https://localhost:8080/"
        },
        "outputId": "f38babe4-d3c5-4ccb-ef03-d7a2f3a1f280",
        "id": "TNc8y6qZnLYs"
      },
      "execution_count": null,
      "outputs": [
        {
          "output_type": "stream",
          "name": "stdout",
          "text": [
            "[nan nan]\n"
          ]
        }
      ],
      "id": "TNc8y6qZnLYs"
    },
    {
      "cell_type": "markdown",
      "source": [
        "## **Observations**\n",
        "1. The reason for Nan approximation is that the model is not trained well, so p(x)/q(x) might explode to infinity, giving the Nan error.\n",
        "2. This error can't be resolved without traning the planar flow well.\n",
        "3. The logic applied here in this code is correct, but the results are unexpected ones, just because the planar flow can't be trained well."
      ],
      "metadata": {
        "id": "Y9LRZQAEczAs"
      },
      "id": "Y9LRZQAEczAs"
    },
    {
      "cell_type": "markdown",
      "source": [
        "## Q2. (2) using the complete class ptarget, find  E[x2]"
      ],
      "metadata": {
        "id": "CfvIattkNVbJ"
      },
      "id": "CfvIattkNVbJ"
    },
    {
      "cell_type": "markdown",
      "source": [
        "Here we can freely sample from the target_dist and also use target_dist.prob\n",
        "1. Sample from target_dist using x = target_dist.sample()\n",
        "2. Use this sample to calc target_dist.prob(x)\n",
        "3. calc x^2\n",
        "4. calc average(x^2 * target_dist.prob(x)) over a large number of samples"
      ],
      "metadata": {
        "id": "zQaq_f6TNZ8e"
      },
      "id": "zQaq_f6TNZ8e"
    },
    {
      "cell_type": "markdown",
      "source": [
        "Now compare the two values from Q2(1) and one value from Q2(2). This reflects the expressive power of flows to model the target_distribution."
      ],
      "metadata": {
        "id": "sKCqRPzOPXxT"
      },
      "id": "sKCqRPzOPXxT"
    },
    {
      "cell_type": "code",
      "source": [
        "direct_target_samples = target_dist.sample(10000)"
      ],
      "metadata": {
        "id": "Qb17Z05g-K5c"
      },
      "execution_count": null,
      "outputs": [],
      "id": "Qb17Z05g-K5c"
    },
    {
      "cell_type": "code",
      "source": [
        "direct_target_probs = np.expand_dims(target_dist.prob(direct_target_samples), 1)"
      ],
      "metadata": {
        "id": "9FptifMgwHio"
      },
      "execution_count": null,
      "outputs": [],
      "id": "9FptifMgwHio"
    },
    {
      "cell_type": "code",
      "source": [
        "f_x = np.multiply(direct_target_samples, direct_target_samples)"
      ],
      "metadata": {
        "id": "O-_TpOXkwSTc"
      },
      "execution_count": null,
      "outputs": [],
      "id": "O-_TpOXkwSTc"
    },
    {
      "cell_type": "code",
      "source": [
        "print(f_x.shape)"
      ],
      "metadata": {
        "colab": {
          "base_uri": "https://localhost:8080/"
        },
        "id": "g9kh-Ai_zHzr",
        "outputId": "3f4ae820-24c4-4b24-9b3f-81f8d0d8b11f"
      },
      "execution_count": null,
      "outputs": [
        {
          "output_type": "stream",
          "name": "stdout",
          "text": [
            "(10000, 2)\n"
          ]
        }
      ],
      "id": "g9kh-Ai_zHzr"
    },
    {
      "cell_type": "code",
      "source": [
        "direct_target_approx = np.mean((f_x * direct_target_probs), axis = 0)"
      ],
      "metadata": {
        "id": "xlCdlT72zJUt"
      },
      "execution_count": null,
      "outputs": [],
      "id": "xlCdlT72zJUt"
    },
    {
      "cell_type": "code",
      "source": [
        "print(direct_target_approx.shape, direct_target_approx)"
      ],
      "metadata": {
        "colab": {
          "base_uri": "https://localhost:8080/"
        },
        "id": "ITxrhmG01NS8",
        "outputId": "44f81908-a936-45da-9656-837267726af9"
      },
      "execution_count": null,
      "outputs": [
        {
          "output_type": "stream",
          "name": "stdout",
          "text": [
            "(2,) [0.8079961  0.90798515]\n"
          ]
        }
      ],
      "id": "ITxrhmG01NS8"
    },
    {
      "cell_type": "markdown",
      "id": "political-chest",
      "metadata": {
        "id": "political-chest"
      },
      "source": [
        "## YOUR OBSERVATIONS:\n",
        "\n",
        "### Q2.1\n",
        "#### **Observations for Q2 part 1 using Q1 (a)**\n",
        "\n",
        "**Reason for large values(sometimes of the order of 1000 times the value obtained from Q2.part 2) when estimating using importance sampling:** \n",
        "1. **Occurs When** - This error is pre-dominant for some certain kinds of distributions only.\n",
        "2. When teh GMM has components which have very less variance and are separated across a lot of space, then the value obtained by this method is very large.\n",
        "3. **Reason** - May there are way more outliers when were randomly sampling from the ptarget(this may happen when ptarget is too much concentrated in small regions, which the modelled distribution is not so much densely concentrated in small regions), which give very small values of q(x), hence inflating the value of the approximation.\n",
        "4. Also for distributions in which this error is not too much, yet the value obtained by this method will be somewhat large(even if by small margin) than the value obtained by Q2 part 2, because q(x) would lie mostly < 1, hence increasing the value of approximation.\n",
        "\n",
        "\n",
        "### Q2.2\n",
        "1. Even if I increase the no of samples from 1000 to 10000 the value stays at roughly the same value, suggesting that this is indeed the estimated value of the E[x^2]\n",
        "2. If no of samples if increased beyond a certain minimum value, then the estimated value no longer changes, suggesting that with suffiecient samples, the estimate is correct to a large degree.\n",
        "3. Also upon multiple experiments this comes out to be smaller than the value obtained in Q2 part 1, just because it is not divided by q(x) which is < 1 for most of the time, rendering p(x)/q(x) slightly larger than p(x)."
      ]
    },
    {
      "cell_type": "code",
      "source": [
        ""
      ],
      "metadata": {
        "id": "1gwu_W7EUEsk"
      },
      "id": "1gwu_W7EUEsk",
      "execution_count": null,
      "outputs": []
    }
  ],
  "metadata": {
    "kernelspec": {
      "display_name": "Python 3",
      "language": "python",
      "name": "python3"
    },
    "language_info": {
      "codemirror_mode": {
        "name": "ipython",
        "version": 3
      },
      "file_extension": ".py",
      "mimetype": "text/x-python",
      "name": "python",
      "nbconvert_exporter": "python",
      "pygments_lexer": "ipython3",
      "version": "3.7.1"
    },
    "colab": {
      "name": "190014_Aashish_Patel_190014_CodingQuiz1.ipynb",
      "provenance": [],
      "collapsed_sections": [
        "described-israel",
        "future-multimedia",
        "5sbIqNTG2a3q",
        "bSKswDVh2OsF",
        "05CA9C7Ja3hQ",
        "MjTVd8InIzYn",
        "6w5KXtThJlor",
        "9byxqJIZLo9_",
        "UBAB4v_ilSvG",
        "OXPJULTWRpi4",
        "1OlGNrOBrx9S",
        "nppcSX0UuGtX",
        "jFxUiO5PKwzn",
        "8Jwu68h434dF",
        "QGD4vd3jn_j0",
        "CfvIattkNVbJ"
      ]
    }
  },
  "nbformat": 4,
  "nbformat_minor": 5
}